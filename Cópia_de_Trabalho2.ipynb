{
  "nbformat": 4,
  "nbformat_minor": 0,
  "metadata": {
    "colab": {
      "name": "Cópia de Trabalho2.ipynb",
      "provenance": [],
      "authorship_tag": "ABX9TyMzhn6uc3lxtUycvd9YWEE1",
      "include_colab_link": true
    },
    "kernelspec": {
      "name": "python3",
      "display_name": "Python 3"
    },
    "language_info": {
      "name": "python"
    }
  },
  "cells": [
    {
      "cell_type": "markdown",
      "metadata": {
        "id": "view-in-github",
        "colab_type": "text"
      },
      "source": [
        "<a href=\"https://colab.research.google.com/github/TassioGama/GTI-tassiogama/blob/main/C%C3%B3pia_de_Trabalho2.ipynb\" target=\"_parent\"><img src=\"https://colab.research.google.com/assets/colab-badge.svg\" alt=\"Open In Colab\"/></a>"
      ]
    },
    {
      "cell_type": "code",
      "execution_count": null,
      "metadata": {
        "id": "KSti5k0HFWjk"
      },
      "outputs": [],
      "source": [
        "import numpy as np \n",
        "import pandas as pd \n",
        "import matplotlib.pyplot as plt\n",
        "import seaborn as sns\n",
        "import math\n"
      ]
    },
    {
      "cell_type": "code",
      "source": [
        "url = 'https://github.com/gustavowillam/ML/blob/main/trabalhos/2022/Trab2/train.csv?raw=true'\n",
        "df = pd.read_csv(url)\n",
        "url='https://github.com/gustavowillam/ML/blob/main/trabalhos/2022/Trab2/test.csv?raw=true'\n",
        "df_teste = pd.read_csv(url)"
      ],
      "metadata": {
        "id": "6DrnSx0lFuBs"
      },
      "execution_count": null,
      "outputs": []
    },
    {
      "cell_type": "code",
      "source": [
        "df.info() #Informações do DataSet"
      ],
      "metadata": {
        "id": "5mSGaqQVFuDS",
        "colab": {
          "base_uri": "https://localhost:8080/"
        },
        "outputId": "4253727a-93e9-4699-e209-37cc58e02999"
      },
      "execution_count": null,
      "outputs": [
        {
          "output_type": "stream",
          "name": "stdout",
          "text": [
            "<class 'pandas.core.frame.DataFrame'>\n",
            "RangeIndex: 891 entries, 0 to 890\n",
            "Data columns (total 12 columns):\n",
            " #   Column       Non-Null Count  Dtype  \n",
            "---  ------       --------------  -----  \n",
            " 0   PassengerId  891 non-null    int64  \n",
            " 1   Survived     891 non-null    int64  \n",
            " 2   Pclass       891 non-null    int64  \n",
            " 3   Name         891 non-null    object \n",
            " 4   Sex          891 non-null    object \n",
            " 5   Age          714 non-null    float64\n",
            " 6   SibSp        891 non-null    int64  \n",
            " 7   Parch        891 non-null    int64  \n",
            " 8   Ticket       891 non-null    object \n",
            " 9   Fare         891 non-null    float64\n",
            " 10  Cabin        204 non-null    object \n",
            " 11  Embarked     889 non-null    object \n",
            "dtypes: float64(2), int64(5), object(5)\n",
            "memory usage: 83.7+ KB\n"
          ]
        }
      ]
    },
    {
      "cell_type": "code",
      "source": [
        "df.shape  #Número de linhas e colunas"
      ],
      "metadata": {
        "id": "dHBGfoNrGRjX",
        "colab": {
          "base_uri": "https://localhost:8080/"
        },
        "outputId": "8c5c9a08-0f17-4d92-e2f2-2875493f33b7"
      },
      "execution_count": null,
      "outputs": [
        {
          "output_type": "execute_result",
          "data": {
            "text/plain": [
              "(891, 12)"
            ]
          },
          "metadata": {},
          "execution_count": 330
        }
      ]
    },
    {
      "cell_type": "code",
      "source": [
        "df.corr()"
      ],
      "metadata": {
        "id": "ffthQtn0GcdC",
        "colab": {
          "base_uri": "https://localhost:8080/",
          "height": 269
        },
        "outputId": "c8908f03-5474-46c0-f272-0ed5dba55a0d"
      },
      "execution_count": null,
      "outputs": [
        {
          "output_type": "execute_result",
          "data": {
            "text/plain": [
              "             PassengerId  Survived    Pclass       Age     SibSp     Parch  \\\n",
              "PassengerId     1.000000 -0.005007 -0.035144  0.036847 -0.057527 -0.001652   \n",
              "Survived       -0.005007  1.000000 -0.338481 -0.077221 -0.035322  0.081629   \n",
              "Pclass         -0.035144 -0.338481  1.000000 -0.369226  0.083081  0.018443   \n",
              "Age             0.036847 -0.077221 -0.369226  1.000000 -0.308247 -0.189119   \n",
              "SibSp          -0.057527 -0.035322  0.083081 -0.308247  1.000000  0.414838   \n",
              "Parch          -0.001652  0.081629  0.018443 -0.189119  0.414838  1.000000   \n",
              "Fare            0.012658  0.257307 -0.549500  0.096067  0.159651  0.216225   \n",
              "\n",
              "                 Fare  \n",
              "PassengerId  0.012658  \n",
              "Survived     0.257307  \n",
              "Pclass      -0.549500  \n",
              "Age          0.096067  \n",
              "SibSp        0.159651  \n",
              "Parch        0.216225  \n",
              "Fare         1.000000  "
            ],
            "text/html": [
              "\n",
              "  <div id=\"df-fd21357f-5cd7-4c95-a5c4-d731b0e3a332\">\n",
              "    <div class=\"colab-df-container\">\n",
              "      <div>\n",
              "<style scoped>\n",
              "    .dataframe tbody tr th:only-of-type {\n",
              "        vertical-align: middle;\n",
              "    }\n",
              "\n",
              "    .dataframe tbody tr th {\n",
              "        vertical-align: top;\n",
              "    }\n",
              "\n",
              "    .dataframe thead th {\n",
              "        text-align: right;\n",
              "    }\n",
              "</style>\n",
              "<table border=\"1\" class=\"dataframe\">\n",
              "  <thead>\n",
              "    <tr style=\"text-align: right;\">\n",
              "      <th></th>\n",
              "      <th>PassengerId</th>\n",
              "      <th>Survived</th>\n",
              "      <th>Pclass</th>\n",
              "      <th>Age</th>\n",
              "      <th>SibSp</th>\n",
              "      <th>Parch</th>\n",
              "      <th>Fare</th>\n",
              "    </tr>\n",
              "  </thead>\n",
              "  <tbody>\n",
              "    <tr>\n",
              "      <th>PassengerId</th>\n",
              "      <td>1.000000</td>\n",
              "      <td>-0.005007</td>\n",
              "      <td>-0.035144</td>\n",
              "      <td>0.036847</td>\n",
              "      <td>-0.057527</td>\n",
              "      <td>-0.001652</td>\n",
              "      <td>0.012658</td>\n",
              "    </tr>\n",
              "    <tr>\n",
              "      <th>Survived</th>\n",
              "      <td>-0.005007</td>\n",
              "      <td>1.000000</td>\n",
              "      <td>-0.338481</td>\n",
              "      <td>-0.077221</td>\n",
              "      <td>-0.035322</td>\n",
              "      <td>0.081629</td>\n",
              "      <td>0.257307</td>\n",
              "    </tr>\n",
              "    <tr>\n",
              "      <th>Pclass</th>\n",
              "      <td>-0.035144</td>\n",
              "      <td>-0.338481</td>\n",
              "      <td>1.000000</td>\n",
              "      <td>-0.369226</td>\n",
              "      <td>0.083081</td>\n",
              "      <td>0.018443</td>\n",
              "      <td>-0.549500</td>\n",
              "    </tr>\n",
              "    <tr>\n",
              "      <th>Age</th>\n",
              "      <td>0.036847</td>\n",
              "      <td>-0.077221</td>\n",
              "      <td>-0.369226</td>\n",
              "      <td>1.000000</td>\n",
              "      <td>-0.308247</td>\n",
              "      <td>-0.189119</td>\n",
              "      <td>0.096067</td>\n",
              "    </tr>\n",
              "    <tr>\n",
              "      <th>SibSp</th>\n",
              "      <td>-0.057527</td>\n",
              "      <td>-0.035322</td>\n",
              "      <td>0.083081</td>\n",
              "      <td>-0.308247</td>\n",
              "      <td>1.000000</td>\n",
              "      <td>0.414838</td>\n",
              "      <td>0.159651</td>\n",
              "    </tr>\n",
              "    <tr>\n",
              "      <th>Parch</th>\n",
              "      <td>-0.001652</td>\n",
              "      <td>0.081629</td>\n",
              "      <td>0.018443</td>\n",
              "      <td>-0.189119</td>\n",
              "      <td>0.414838</td>\n",
              "      <td>1.000000</td>\n",
              "      <td>0.216225</td>\n",
              "    </tr>\n",
              "    <tr>\n",
              "      <th>Fare</th>\n",
              "      <td>0.012658</td>\n",
              "      <td>0.257307</td>\n",
              "      <td>-0.549500</td>\n",
              "      <td>0.096067</td>\n",
              "      <td>0.159651</td>\n",
              "      <td>0.216225</td>\n",
              "      <td>1.000000</td>\n",
              "    </tr>\n",
              "  </tbody>\n",
              "</table>\n",
              "</div>\n",
              "      <button class=\"colab-df-convert\" onclick=\"convertToInteractive('df-fd21357f-5cd7-4c95-a5c4-d731b0e3a332')\"\n",
              "              title=\"Convert this dataframe to an interactive table.\"\n",
              "              style=\"display:none;\">\n",
              "        \n",
              "  <svg xmlns=\"http://www.w3.org/2000/svg\" height=\"24px\"viewBox=\"0 0 24 24\"\n",
              "       width=\"24px\">\n",
              "    <path d=\"M0 0h24v24H0V0z\" fill=\"none\"/>\n",
              "    <path d=\"M18.56 5.44l.94 2.06.94-2.06 2.06-.94-2.06-.94-.94-2.06-.94 2.06-2.06.94zm-11 1L8.5 8.5l.94-2.06 2.06-.94-2.06-.94L8.5 2.5l-.94 2.06-2.06.94zm10 10l.94 2.06.94-2.06 2.06-.94-2.06-.94-.94-2.06-.94 2.06-2.06.94z\"/><path d=\"M17.41 7.96l-1.37-1.37c-.4-.4-.92-.59-1.43-.59-.52 0-1.04.2-1.43.59L10.3 9.45l-7.72 7.72c-.78.78-.78 2.05 0 2.83L4 21.41c.39.39.9.59 1.41.59.51 0 1.02-.2 1.41-.59l7.78-7.78 2.81-2.81c.8-.78.8-2.07 0-2.86zM5.41 20L4 18.59l7.72-7.72 1.47 1.35L5.41 20z\"/>\n",
              "  </svg>\n",
              "      </button>\n",
              "      \n",
              "  <style>\n",
              "    .colab-df-container {\n",
              "      display:flex;\n",
              "      flex-wrap:wrap;\n",
              "      gap: 12px;\n",
              "    }\n",
              "\n",
              "    .colab-df-convert {\n",
              "      background-color: #E8F0FE;\n",
              "      border: none;\n",
              "      border-radius: 50%;\n",
              "      cursor: pointer;\n",
              "      display: none;\n",
              "      fill: #1967D2;\n",
              "      height: 32px;\n",
              "      padding: 0 0 0 0;\n",
              "      width: 32px;\n",
              "    }\n",
              "\n",
              "    .colab-df-convert:hover {\n",
              "      background-color: #E2EBFA;\n",
              "      box-shadow: 0px 1px 2px rgba(60, 64, 67, 0.3), 0px 1px 3px 1px rgba(60, 64, 67, 0.15);\n",
              "      fill: #174EA6;\n",
              "    }\n",
              "\n",
              "    [theme=dark] .colab-df-convert {\n",
              "      background-color: #3B4455;\n",
              "      fill: #D2E3FC;\n",
              "    }\n",
              "\n",
              "    [theme=dark] .colab-df-convert:hover {\n",
              "      background-color: #434B5C;\n",
              "      box-shadow: 0px 1px 3px 1px rgba(0, 0, 0, 0.15);\n",
              "      filter: drop-shadow(0px 1px 2px rgba(0, 0, 0, 0.3));\n",
              "      fill: #FFFFFF;\n",
              "    }\n",
              "  </style>\n",
              "\n",
              "      <script>\n",
              "        const buttonEl =\n",
              "          document.querySelector('#df-fd21357f-5cd7-4c95-a5c4-d731b0e3a332 button.colab-df-convert');\n",
              "        buttonEl.style.display =\n",
              "          google.colab.kernel.accessAllowed ? 'block' : 'none';\n",
              "\n",
              "        async function convertToInteractive(key) {\n",
              "          const element = document.querySelector('#df-fd21357f-5cd7-4c95-a5c4-d731b0e3a332');\n",
              "          const dataTable =\n",
              "            await google.colab.kernel.invokeFunction('convertToInteractive',\n",
              "                                                     [key], {});\n",
              "          if (!dataTable) return;\n",
              "\n",
              "          const docLinkHtml = 'Like what you see? Visit the ' +\n",
              "            '<a target=\"_blank\" href=https://colab.research.google.com/notebooks/data_table.ipynb>data table notebook</a>'\n",
              "            + ' to learn more about interactive tables.';\n",
              "          element.innerHTML = '';\n",
              "          dataTable['output_type'] = 'display_data';\n",
              "          await google.colab.output.renderOutput(dataTable, element);\n",
              "          const docLink = document.createElement('div');\n",
              "          docLink.innerHTML = docLinkHtml;\n",
              "          element.appendChild(docLink);\n",
              "        }\n",
              "      </script>\n",
              "    </div>\n",
              "  </div>\n",
              "  "
            ]
          },
          "metadata": {},
          "execution_count": 331
        }
      ]
    },
    {
      "cell_type": "code",
      "source": [
        "df.isna()"
      ],
      "metadata": {
        "id": "NUKee11QGkUE",
        "colab": {
          "base_uri": "https://localhost:8080/",
          "height": 424
        },
        "outputId": "6bc506ff-9879-4b2e-d80e-be86d411528d"
      },
      "execution_count": null,
      "outputs": [
        {
          "output_type": "execute_result",
          "data": {
            "text/plain": [
              "     PassengerId  Survived  Pclass   Name    Sex    Age  SibSp  Parch  Ticket  \\\n",
              "0          False     False   False  False  False  False  False  False   False   \n",
              "1          False     False   False  False  False  False  False  False   False   \n",
              "2          False     False   False  False  False  False  False  False   False   \n",
              "3          False     False   False  False  False  False  False  False   False   \n",
              "4          False     False   False  False  False  False  False  False   False   \n",
              "..           ...       ...     ...    ...    ...    ...    ...    ...     ...   \n",
              "886        False     False   False  False  False  False  False  False   False   \n",
              "887        False     False   False  False  False  False  False  False   False   \n",
              "888        False     False   False  False  False   True  False  False   False   \n",
              "889        False     False   False  False  False  False  False  False   False   \n",
              "890        False     False   False  False  False  False  False  False   False   \n",
              "\n",
              "      Fare  Cabin  Embarked  \n",
              "0    False   True     False  \n",
              "1    False  False     False  \n",
              "2    False   True     False  \n",
              "3    False  False     False  \n",
              "4    False   True     False  \n",
              "..     ...    ...       ...  \n",
              "886  False   True     False  \n",
              "887  False  False     False  \n",
              "888  False   True     False  \n",
              "889  False  False     False  \n",
              "890  False   True     False  \n",
              "\n",
              "[891 rows x 12 columns]"
            ],
            "text/html": [
              "\n",
              "  <div id=\"df-1e9f828e-40b7-4a3f-8267-8c62326631c3\">\n",
              "    <div class=\"colab-df-container\">\n",
              "      <div>\n",
              "<style scoped>\n",
              "    .dataframe tbody tr th:only-of-type {\n",
              "        vertical-align: middle;\n",
              "    }\n",
              "\n",
              "    .dataframe tbody tr th {\n",
              "        vertical-align: top;\n",
              "    }\n",
              "\n",
              "    .dataframe thead th {\n",
              "        text-align: right;\n",
              "    }\n",
              "</style>\n",
              "<table border=\"1\" class=\"dataframe\">\n",
              "  <thead>\n",
              "    <tr style=\"text-align: right;\">\n",
              "      <th></th>\n",
              "      <th>PassengerId</th>\n",
              "      <th>Survived</th>\n",
              "      <th>Pclass</th>\n",
              "      <th>Name</th>\n",
              "      <th>Sex</th>\n",
              "      <th>Age</th>\n",
              "      <th>SibSp</th>\n",
              "      <th>Parch</th>\n",
              "      <th>Ticket</th>\n",
              "      <th>Fare</th>\n",
              "      <th>Cabin</th>\n",
              "      <th>Embarked</th>\n",
              "    </tr>\n",
              "  </thead>\n",
              "  <tbody>\n",
              "    <tr>\n",
              "      <th>0</th>\n",
              "      <td>False</td>\n",
              "      <td>False</td>\n",
              "      <td>False</td>\n",
              "      <td>False</td>\n",
              "      <td>False</td>\n",
              "      <td>False</td>\n",
              "      <td>False</td>\n",
              "      <td>False</td>\n",
              "      <td>False</td>\n",
              "      <td>False</td>\n",
              "      <td>True</td>\n",
              "      <td>False</td>\n",
              "    </tr>\n",
              "    <tr>\n",
              "      <th>1</th>\n",
              "      <td>False</td>\n",
              "      <td>False</td>\n",
              "      <td>False</td>\n",
              "      <td>False</td>\n",
              "      <td>False</td>\n",
              "      <td>False</td>\n",
              "      <td>False</td>\n",
              "      <td>False</td>\n",
              "      <td>False</td>\n",
              "      <td>False</td>\n",
              "      <td>False</td>\n",
              "      <td>False</td>\n",
              "    </tr>\n",
              "    <tr>\n",
              "      <th>2</th>\n",
              "      <td>False</td>\n",
              "      <td>False</td>\n",
              "      <td>False</td>\n",
              "      <td>False</td>\n",
              "      <td>False</td>\n",
              "      <td>False</td>\n",
              "      <td>False</td>\n",
              "      <td>False</td>\n",
              "      <td>False</td>\n",
              "      <td>False</td>\n",
              "      <td>True</td>\n",
              "      <td>False</td>\n",
              "    </tr>\n",
              "    <tr>\n",
              "      <th>3</th>\n",
              "      <td>False</td>\n",
              "      <td>False</td>\n",
              "      <td>False</td>\n",
              "      <td>False</td>\n",
              "      <td>False</td>\n",
              "      <td>False</td>\n",
              "      <td>False</td>\n",
              "      <td>False</td>\n",
              "      <td>False</td>\n",
              "      <td>False</td>\n",
              "      <td>False</td>\n",
              "      <td>False</td>\n",
              "    </tr>\n",
              "    <tr>\n",
              "      <th>4</th>\n",
              "      <td>False</td>\n",
              "      <td>False</td>\n",
              "      <td>False</td>\n",
              "      <td>False</td>\n",
              "      <td>False</td>\n",
              "      <td>False</td>\n",
              "      <td>False</td>\n",
              "      <td>False</td>\n",
              "      <td>False</td>\n",
              "      <td>False</td>\n",
              "      <td>True</td>\n",
              "      <td>False</td>\n",
              "    </tr>\n",
              "    <tr>\n",
              "      <th>...</th>\n",
              "      <td>...</td>\n",
              "      <td>...</td>\n",
              "      <td>...</td>\n",
              "      <td>...</td>\n",
              "      <td>...</td>\n",
              "      <td>...</td>\n",
              "      <td>...</td>\n",
              "      <td>...</td>\n",
              "      <td>...</td>\n",
              "      <td>...</td>\n",
              "      <td>...</td>\n",
              "      <td>...</td>\n",
              "    </tr>\n",
              "    <tr>\n",
              "      <th>886</th>\n",
              "      <td>False</td>\n",
              "      <td>False</td>\n",
              "      <td>False</td>\n",
              "      <td>False</td>\n",
              "      <td>False</td>\n",
              "      <td>False</td>\n",
              "      <td>False</td>\n",
              "      <td>False</td>\n",
              "      <td>False</td>\n",
              "      <td>False</td>\n",
              "      <td>True</td>\n",
              "      <td>False</td>\n",
              "    </tr>\n",
              "    <tr>\n",
              "      <th>887</th>\n",
              "      <td>False</td>\n",
              "      <td>False</td>\n",
              "      <td>False</td>\n",
              "      <td>False</td>\n",
              "      <td>False</td>\n",
              "      <td>False</td>\n",
              "      <td>False</td>\n",
              "      <td>False</td>\n",
              "      <td>False</td>\n",
              "      <td>False</td>\n",
              "      <td>False</td>\n",
              "      <td>False</td>\n",
              "    </tr>\n",
              "    <tr>\n",
              "      <th>888</th>\n",
              "      <td>False</td>\n",
              "      <td>False</td>\n",
              "      <td>False</td>\n",
              "      <td>False</td>\n",
              "      <td>False</td>\n",
              "      <td>True</td>\n",
              "      <td>False</td>\n",
              "      <td>False</td>\n",
              "      <td>False</td>\n",
              "      <td>False</td>\n",
              "      <td>True</td>\n",
              "      <td>False</td>\n",
              "    </tr>\n",
              "    <tr>\n",
              "      <th>889</th>\n",
              "      <td>False</td>\n",
              "      <td>False</td>\n",
              "      <td>False</td>\n",
              "      <td>False</td>\n",
              "      <td>False</td>\n",
              "      <td>False</td>\n",
              "      <td>False</td>\n",
              "      <td>False</td>\n",
              "      <td>False</td>\n",
              "      <td>False</td>\n",
              "      <td>False</td>\n",
              "      <td>False</td>\n",
              "    </tr>\n",
              "    <tr>\n",
              "      <th>890</th>\n",
              "      <td>False</td>\n",
              "      <td>False</td>\n",
              "      <td>False</td>\n",
              "      <td>False</td>\n",
              "      <td>False</td>\n",
              "      <td>False</td>\n",
              "      <td>False</td>\n",
              "      <td>False</td>\n",
              "      <td>False</td>\n",
              "      <td>False</td>\n",
              "      <td>True</td>\n",
              "      <td>False</td>\n",
              "    </tr>\n",
              "  </tbody>\n",
              "</table>\n",
              "<p>891 rows × 12 columns</p>\n",
              "</div>\n",
              "      <button class=\"colab-df-convert\" onclick=\"convertToInteractive('df-1e9f828e-40b7-4a3f-8267-8c62326631c3')\"\n",
              "              title=\"Convert this dataframe to an interactive table.\"\n",
              "              style=\"display:none;\">\n",
              "        \n",
              "  <svg xmlns=\"http://www.w3.org/2000/svg\" height=\"24px\"viewBox=\"0 0 24 24\"\n",
              "       width=\"24px\">\n",
              "    <path d=\"M0 0h24v24H0V0z\" fill=\"none\"/>\n",
              "    <path d=\"M18.56 5.44l.94 2.06.94-2.06 2.06-.94-2.06-.94-.94-2.06-.94 2.06-2.06.94zm-11 1L8.5 8.5l.94-2.06 2.06-.94-2.06-.94L8.5 2.5l-.94 2.06-2.06.94zm10 10l.94 2.06.94-2.06 2.06-.94-2.06-.94-.94-2.06-.94 2.06-2.06.94z\"/><path d=\"M17.41 7.96l-1.37-1.37c-.4-.4-.92-.59-1.43-.59-.52 0-1.04.2-1.43.59L10.3 9.45l-7.72 7.72c-.78.78-.78 2.05 0 2.83L4 21.41c.39.39.9.59 1.41.59.51 0 1.02-.2 1.41-.59l7.78-7.78 2.81-2.81c.8-.78.8-2.07 0-2.86zM5.41 20L4 18.59l7.72-7.72 1.47 1.35L5.41 20z\"/>\n",
              "  </svg>\n",
              "      </button>\n",
              "      \n",
              "  <style>\n",
              "    .colab-df-container {\n",
              "      display:flex;\n",
              "      flex-wrap:wrap;\n",
              "      gap: 12px;\n",
              "    }\n",
              "\n",
              "    .colab-df-convert {\n",
              "      background-color: #E8F0FE;\n",
              "      border: none;\n",
              "      border-radius: 50%;\n",
              "      cursor: pointer;\n",
              "      display: none;\n",
              "      fill: #1967D2;\n",
              "      height: 32px;\n",
              "      padding: 0 0 0 0;\n",
              "      width: 32px;\n",
              "    }\n",
              "\n",
              "    .colab-df-convert:hover {\n",
              "      background-color: #E2EBFA;\n",
              "      box-shadow: 0px 1px 2px rgba(60, 64, 67, 0.3), 0px 1px 3px 1px rgba(60, 64, 67, 0.15);\n",
              "      fill: #174EA6;\n",
              "    }\n",
              "\n",
              "    [theme=dark] .colab-df-convert {\n",
              "      background-color: #3B4455;\n",
              "      fill: #D2E3FC;\n",
              "    }\n",
              "\n",
              "    [theme=dark] .colab-df-convert:hover {\n",
              "      background-color: #434B5C;\n",
              "      box-shadow: 0px 1px 3px 1px rgba(0, 0, 0, 0.15);\n",
              "      filter: drop-shadow(0px 1px 2px rgba(0, 0, 0, 0.3));\n",
              "      fill: #FFFFFF;\n",
              "    }\n",
              "  </style>\n",
              "\n",
              "      <script>\n",
              "        const buttonEl =\n",
              "          document.querySelector('#df-1e9f828e-40b7-4a3f-8267-8c62326631c3 button.colab-df-convert');\n",
              "        buttonEl.style.display =\n",
              "          google.colab.kernel.accessAllowed ? 'block' : 'none';\n",
              "\n",
              "        async function convertToInteractive(key) {\n",
              "          const element = document.querySelector('#df-1e9f828e-40b7-4a3f-8267-8c62326631c3');\n",
              "          const dataTable =\n",
              "            await google.colab.kernel.invokeFunction('convertToInteractive',\n",
              "                                                     [key], {});\n",
              "          if (!dataTable) return;\n",
              "\n",
              "          const docLinkHtml = 'Like what you see? Visit the ' +\n",
              "            '<a target=\"_blank\" href=https://colab.research.google.com/notebooks/data_table.ipynb>data table notebook</a>'\n",
              "            + ' to learn more about interactive tables.';\n",
              "          element.innerHTML = '';\n",
              "          dataTable['output_type'] = 'display_data';\n",
              "          await google.colab.output.renderOutput(dataTable, element);\n",
              "          const docLink = document.createElement('div');\n",
              "          docLink.innerHTML = docLinkHtml;\n",
              "          element.appendChild(docLink);\n",
              "        }\n",
              "      </script>\n",
              "    </div>\n",
              "  </div>\n",
              "  "
            ]
          },
          "metadata": {},
          "execution_count": 332
        }
      ]
    },
    {
      "cell_type": "code",
      "source": [
        "df.isnull().any()"
      ],
      "metadata": {
        "id": "BcE_B-gFHCIC",
        "colab": {
          "base_uri": "https://localhost:8080/"
        },
        "outputId": "8aa5c81b-3227-4ecf-ffc8-ab6b363d0160"
      },
      "execution_count": null,
      "outputs": [
        {
          "output_type": "execute_result",
          "data": {
            "text/plain": [
              "PassengerId    False\n",
              "Survived       False\n",
              "Pclass         False\n",
              "Name           False\n",
              "Sex            False\n",
              "Age             True\n",
              "SibSp          False\n",
              "Parch          False\n",
              "Ticket         False\n",
              "Fare           False\n",
              "Cabin           True\n",
              "Embarked        True\n",
              "dtype: bool"
            ]
          },
          "metadata": {},
          "execution_count": 333
        }
      ]
    },
    {
      "cell_type": "code",
      "source": [
        "df.isna().sum()"
      ],
      "metadata": {
        "colab": {
          "base_uri": "https://localhost:8080/"
        },
        "id": "blF66utWJF-f",
        "outputId": "fa08cec2-1919-43a5-fbc9-60d69fa9e7d5"
      },
      "execution_count": null,
      "outputs": [
        {
          "output_type": "execute_result",
          "data": {
            "text/plain": [
              "PassengerId      0\n",
              "Survived         0\n",
              "Pclass           0\n",
              "Name             0\n",
              "Sex              0\n",
              "Age            177\n",
              "SibSp            0\n",
              "Parch            0\n",
              "Ticket           0\n",
              "Fare             0\n",
              "Cabin          687\n",
              "Embarked         2\n",
              "dtype: int64"
            ]
          },
          "metadata": {},
          "execution_count": 334
        }
      ]
    },
    {
      "cell_type": "code",
      "source": [
        "#Tirando média da Idade e substituindo aonde os valores são nulos\n",
        "mediaidade = df['Age'].mean()\n",
        "mediaidade = math.floor(mediaidade)\n",
        "df.update(df['Age'].fillna(mediaidade))\n",
        "print(mediaidade)"
      ],
      "metadata": {
        "id": "AMpYkgYuJJgh",
        "colab": {
          "base_uri": "https://localhost:8080/"
        },
        "outputId": "280ba61b-55c7-47e1-9a57-6312e60f8fad"
      },
      "execution_count": null,
      "outputs": [
        {
          "output_type": "stream",
          "name": "stdout",
          "text": [
            "29\n"
          ]
        }
      ]
    },
    {
      "cell_type": "code",
      "source": [
        "#Tirando mediana da coluna Embarked e substituindo aonde os valores são nulos\n",
        "medianaembarked = df['Embarked'].value_counts()\n",
        "print(medianaembarked)\n",
        "df.update(df['Embarked'].fillna('S'))\n",
        "\n"
      ],
      "metadata": {
        "colab": {
          "base_uri": "https://localhost:8080/"
        },
        "id": "0buFBuaPLKGi",
        "outputId": "212bc7d7-8fc2-4fab-8270-e3f78d21ab4a"
      },
      "execution_count": null,
      "outputs": [
        {
          "output_type": "stream",
          "name": "stdout",
          "text": [
            "S    644\n",
            "C    168\n",
            "Q     77\n",
            "Name: Embarked, dtype: int64\n"
          ]
        }
      ]
    },
    {
      "cell_type": "code",
      "source": [
        "df = df.drop(columns=['Name'])"
      ],
      "metadata": {
        "id": "aZyWioD2LcDd"
      },
      "execution_count": null,
      "outputs": []
    },
    {
      "cell_type": "code",
      "source": [
        "def convert_cat(df,col):\n",
        "    \"\"\"\n",
        "    input: dataframe and col list of categorical columns\n",
        "    output: dataframw with numerical values\n",
        "    \"\"\"\n",
        "    for c in col:\n",
        "        item_list = df[c].unique().tolist()\n",
        "        enum=enumerate(item_list)\n",
        "        d = dict((j,i) for i,j in enum)\n",
        "        print(c)\n",
        "        print(d)\n",
        "        \n",
        "        df[c].replace(d, inplace=True)\n",
        "    return df\n"
      ],
      "metadata": {
        "id": "bSRZfXYdhwUF"
      },
      "execution_count": null,
      "outputs": []
    },
    {
      "cell_type": "code",
      "source": [
        "dtypes = df.dtypes.to_dict()      \n",
        "\n",
        "for col_name, typ in dtypes.items():\n",
        "    if (typ == 'object'): \n",
        "        print(col_name, type)\n",
        "        convert_cat(df,[col_name])\n",
        "\n",
        "dtypes = df_teste.dtypes.to_dict() \n",
        "for col_name, typ in dtypes.items():\n",
        "    if (typ == 'object'): \n",
        "        print(col_name, type)\n",
        "        convert_cat(df_teste,[col_name])    "
      ],
      "metadata": {
        "colab": {
          "base_uri": "https://localhost:8080/"
        },
        "id": "u1pzyY5Ohy3e",
        "outputId": "ce9deab9-30af-47c6-f005-81600303eb1a"
      },
      "execution_count": null,
      "outputs": [
        {
          "output_type": "stream",
          "name": "stdout",
          "text": [
            "Sex <class 'type'>\n",
            "Sex\n",
            "{'male': 0, 'female': 1}\n",
            "Ticket <class 'type'>\n",
            "Ticket\n",
            "{'A/5 21171': 0, 'PC 17599': 1, 'STON/O2. 3101282': 2, '113803': 3, '373450': 4, '330877': 5, '17463': 6, '349909': 7, '347742': 8, '237736': 9, 'PP 9549': 10, '113783': 11, 'A/5. 2151': 12, '347082': 13, '350406': 14, '248706': 15, '382652': 16, '244373': 17, '345763': 18, '2649': 19, '239865': 20, '248698': 21, '330923': 22, '113788': 23, '347077': 24, '2631': 25, '19950': 26, '330959': 27, '349216': 28, 'PC 17601': 29, 'PC 17569': 30, '335677': 31, 'C.A. 24579': 32, 'PC 17604': 33, '113789': 34, '2677': 35, 'A./5. 2152': 36, '345764': 37, '2651': 38, '7546': 39, '11668': 40, '349253': 41, 'SC/Paris 2123': 42, '330958': 43, 'S.C./A.4. 23567': 44, '370371': 45, '14311': 46, '2662': 47, '349237': 48, '3101295': 49, 'A/4. 39886': 50, 'PC 17572': 51, '2926': 52, '113509': 53, '19947': 54, 'C.A. 31026': 55, '2697': 56, 'C.A. 34651': 57, 'CA 2144': 58, '2669': 59, '113572': 60, '36973': 61, '347088': 62, 'PC 17605': 63, '2661': 64, 'C.A. 29395': 65, 'S.P. 3464': 66, '3101281': 67, '315151': 68, 'C.A. 33111': 69, 'S.O.C. 14879': 70, '2680': 71, '1601': 72, '348123': 73, '349208': 74, '374746': 75, '248738': 76, '364516': 77, '345767': 78, '345779': 79, '330932': 80, '113059': 81, 'SO/C 14885': 82, '3101278': 83, 'W./C. 6608': 84, 'SOTON/OQ 392086': 85, '343275': 86, '343276': 87, '347466': 88, 'W.E.P. 5734': 89, 'C.A. 2315': 90, '364500': 91, '374910': 92, 'PC 17754': 93, 'PC 17759': 94, '231919': 95, '244367': 96, '349245': 97, '349215': 98, '35281': 99, '7540': 100, '3101276': 101, '349207': 102, '343120': 103, '312991': 104, '349249': 105, '371110': 106, '110465': 107, '2665': 108, '324669': 109, '4136': 110, '2627': 111, 'STON/O 2. 3101294': 112, '370369': 113, 'PC 17558': 114, 'A4. 54510': 115, '27267': 116, '370372': 117, 'C 17369': 118, '2668': 119, '347061': 120, '349241': 121, 'SOTON/O.Q. 3101307': 122, 'A/5. 3337': 123, '228414': 124, 'C.A. 29178': 125, 'SC/PARIS 2133': 126, '11752': 127, '7534': 128, 'PC 17593': 129, '2678': 130, '347081': 131, 'STON/O2. 3101279': 132, '365222': 133, '231945': 134, 'C.A. 33112': 135, '350043': 136, '230080': 137, '244310': 138, 'S.O.P. 1166': 139, '113776': 140, 'A.5. 11206': 141, 'A/5. 851': 142, 'Fa 265302': 143, 'PC 17597': 144, '35851': 145, 'SOTON/OQ 392090': 146, '315037': 147, 'CA. 2343': 148, '371362': 149, 'C.A. 33595': 150, '347068': 151, '315093': 152, '363291': 153, '113505': 154, 'PC 17318': 155, '111240': 156, 'STON/O 2. 3101280': 157, '17764': 158, '350404': 159, '4133': 160, 'PC 17595': 161, '250653': 162, 'LINE': 163, 'SC/PARIS 2131': 164, '230136': 165, '315153': 166, '113767': 167, '370365': 168, '111428': 169, '364849': 170, '349247': 171, '234604': 172, '28424': 173, '350046': 174, 'PC 17610': 175, '368703': 176, '4579': 177, '370370': 178, '248747': 179, '345770': 180, '3101264': 181, '2628': 182, 'A/5 3540': 183, '347054': 184, '2699': 185, '367231': 186, '112277': 187, 'SOTON/O.Q. 3101311': 188, 'F.C.C. 13528': 189, 'A/5 21174': 190, '250646': 191, '367229': 192, '35273': 193, 'STON/O2. 3101283': 194, '243847': 195, '11813': 196, 'W/C 14208': 197, 'SOTON/OQ 392089': 198, '220367': 199, '21440': 200, '349234': 201, '19943': 202, 'PP 4348': 203, 'SW/PP 751': 204, 'A/5 21173': 205, '236171': 206, '347067': 207, '237442': 208, 'C.A. 29566': 209, 'W./C. 6609': 210, '26707': 211, 'C.A. 31921': 212, '28665': 213, 'SCO/W 1585': 214, '367230': 215, 'W./C. 14263': 216, 'STON/O 2. 3101275': 217, '2694': 218, '19928': 219, '347071': 220, '250649': 221, '11751': 222, '244252': 223, '362316': 224, '113514': 225, 'A/5. 3336': 226, '370129': 227, '2650': 228, 'PC 17585': 229, '110152': 230, 'PC 17755': 231, '230433': 232, '384461': 233, '110413': 234, '112059': 235, '382649': 236, 'C.A. 17248': 237, '347083': 238, 'PC 17582': 239, 'PC 17760': 240, '113798': 241, '250644': 242, 'PC 17596': 243, '370375': 244, '13502': 245, '347073': 246, '239853': 247, 'C.A. 2673': 248, '336439': 249, '347464': 250, '345778': 251, 'A/5. 10482': 252, '113056': 253, '349239': 254, '345774': 255, '349206': 256, '237798': 257, '370373': 258, '19877': 259, '11967': 260, 'SC/Paris 2163': 261, '349236': 262, '349233': 263, 'PC 17612': 264, '2693': 265, '113781': 266, '19988': 267, '9234': 268, '367226': 269, '226593': 270, 'A/5 2466': 271, '17421': 272, 'PC 17758': 273, 'P/PP 3381': 274, 'PC 17485': 275, '11767': 276, 'PC 17608': 277, '250651': 278, '349243': 279, 'F.C.C. 13529': 280, '347470': 281, '29011': 282, '36928': 283, '16966': 284, 'A/5 21172': 285, '349219': 286, '234818': 287, '345364': 288, '28551': 289, '111361': 290, '113043': 291, 'PC 17611': 292, '349225': 293, '7598': 294, '113784': 295, '248740': 296, '244361': 297, '229236': 298, '248733': 299, '31418': 300, '386525': 301, 'C.A. 37671': 302, '315088': 303, '7267': 304, '113510': 305, '2695': 306, '2647': 307, '345783': 308, '237671': 309, '330931': 310, '330980': 311, 'SC/PARIS 2167': 312, '2691': 313, 'SOTON/O.Q. 3101310': 314, 'C 7076': 315, '110813': 316, '2626': 317, '14313': 318, 'PC 17477': 319, '11765': 320, '3101267': 321, '323951': 322, 'C 7077': 323, '113503': 324, '2648': 325, '347069': 326, 'PC 17757': 327, '2653': 328, 'STON/O 2. 3101293': 329, '349227': 330, '27849': 331, '367655': 332, 'SC 1748': 333, '113760': 334, '350034': 335, '3101277': 336, '350052': 337, '350407': 338, '28403': 339, '244278': 340, '240929': 341, 'STON/O 2. 3101289': 342, '341826': 343, '4137': 344, '315096': 345, '28664': 346, '347064': 347, '29106': 348, '312992': 349, '349222': 350, '394140': 351, 'STON/O 2. 3101269': 352, '343095': 353, '28220': 354, '250652': 355, '28228': 356, '345773': 357, '349254': 358, 'A/5. 13032': 359, '315082': 360, '347080': 361, 'A/4. 34244': 362, '2003': 363, '250655': 364, '364851': 365, 'SOTON/O.Q. 392078': 366, '110564': 367, '376564': 368, 'SC/AH 3085': 369, 'STON/O 2. 3101274': 370, '13507': 371, 'C.A. 18723': 372, '345769': 373, '347076': 374, '230434': 375, '65306': 376, '33638': 377, '113794': 378, '2666': 379, '113786': 380, '65303': 381, '113051': 382, '17453': 383, 'A/5 2817': 384, '349240': 385, '13509': 386, '17464': 387, 'F.C.C. 13531': 388, '371060': 389, '19952': 390, '364506': 391, '111320': 392, '234360': 393, 'A/S 2816': 394, 'SOTON/O.Q. 3101306': 395, '113792': 396, '36209': 397, '323592': 398, '315089': 399, 'SC/AH Basle 541': 400, '7553': 401, '31027': 402, '3460': 403, '350060': 404, '3101298': 405, '239854': 406, 'A/5 3594': 407, '4134': 408, '11771': 409, 'A.5. 18509': 410, '65304': 411, 'SOTON/OQ 3101317': 412, '113787': 413, 'PC 17609': 414, 'A/4 45380': 415, '36947': 416, 'C.A. 6212': 417, '350035': 418, '315086': 419, '364846': 420, '330909': 421, '4135': 422, '26360': 423, '111427': 424, 'C 4001': 425, '382651': 426, 'SOTON/OQ 3101316': 427, 'PC 17473': 428, 'PC 17603': 429, '349209': 430, '36967': 431, 'C.A. 34260': 432, '226875': 433, '349242': 434, '12749': 435, '349252': 436, '2624': 437, '2700': 438, '367232': 439, 'W./C. 14258': 440, 'PC 17483': 441, '3101296': 442, '29104': 443, '2641': 444, '2690': 445, '315084': 446, '113050': 447, 'PC 17761': 448, '364498': 449, '13568': 450, 'WE/P 5735': 451, '2908': 452, '693': 453, 'SC/PARIS 2146': 454, '244358': 455, '330979': 456, '2620': 457, '347085': 458, '113807': 459, '11755': 460, '345572': 461, '372622': 462, '349251': 463, '218629': 464, 'SOTON/OQ 392082': 465, 'SOTON/O.Q. 392087': 466, 'A/4 48871': 467, '349205': 468, '2686': 469, '350417': 470, 'S.W./PP 752': 471, '11769': 472, 'PC 17474': 473, '14312': 474, 'A/4. 20589': 475, '358585': 476, '243880': 477, '2689': 478, 'STON/O 2. 3101286': 479, '237789': 480, '13049': 481, '3411': 482, '237565': 483, '13567': 484, '14973': 485, 'A./5. 3235': 486, 'STON/O 2. 3101273': 487, 'A/5 3902': 488, '364848': 489, 'SC/AH 29037': 490, '248727': 491, '2664': 492, '349214': 493, '113796': 494, '364511': 495, '111426': 496, '349910': 497, '349246': 498, '113804': 499, 'SOTON/O.Q. 3101305': 500, '370377': 501, '364512': 502, '220845': 503, '31028': 504, '2659': 505, '11753': 506, '350029': 507, '54636': 508, '36963': 509, '219533': 510, '349224': 511, '334912': 512, '27042': 513, '347743': 514, '13214': 515, '112052': 516, '237668': 517, 'STON/O 2. 3101292': 518, '350050': 519, '349231': 520, '13213': 521, 'S.O./P.P. 751': 522, 'CA. 2314': 523, '349221': 524, '8475': 525, '330919': 526, '365226': 527, '349223': 528, '29751': 529, '2623': 530, '5727': 531, '349210': 532, 'STON/O 2. 3101285': 533, '234686': 534, '312993': 535, 'A/5 3536': 536, '19996': 537, '29750': 538, 'F.C. 12750': 539, 'C.A. 24580': 540, '244270': 541, '239856': 542, '349912': 543, '342826': 544, '4138': 545, '330935': 546, '6563': 547, '349228': 548, '350036': 549, '24160': 550, '17474': 551, '349256': 552, '2672': 553, '113800': 554, '248731': 555, '363592': 556, '35852': 557, '348121': 558, 'PC 17475': 559, '36864': 560, '350025': 561, '223596': 562, 'PC 17476': 563, 'PC 17482': 564, '113028': 565, '7545': 566, '250647': 567, '348124': 568, '34218': 569, '36568': 570, '347062': 571, '350048': 572, '12233': 573, '250643': 574, '113806': 575, '315094': 576, '36866': 577, '236853': 578, 'STON/O2. 3101271': 579, '239855': 580, '28425': 581, '233639': 582, '349201': 583, '349218': 584, '16988': 585, '376566': 586, 'STON/O 2. 3101288': 587, '250648': 588, '113773': 589, '335097': 590, '29103': 591, '392096': 592, '345780': 593, '349204': 594, '350042': 595, '29108': 596, '363294': 597, 'SOTON/O2 3101272': 598, '2663': 599, '347074': 600, '112379': 601, '364850': 602, '8471': 603, '345781': 604, '350047': 605, 'S.O./P.P. 3': 606, '2674': 607, '29105': 608, '347078': 609, '383121': 610, '36865': 611, '2687': 612, '113501': 613, 'W./C. 6607': 614, 'SOTON/O.Q. 3101312': 615, '374887': 616, '3101265': 617, '12460': 618, 'PC 17600': 619, '349203': 620, '28213': 621, '17465': 622, '349244': 623, '2685': 624, '2625': 625, '347089': 626, '347063': 627, '112050': 628, '347087': 629, '248723': 630, '3474': 631, '28206': 632, '364499': 633, '112058': 634, 'STON/O2. 3101290': 635, 'S.C./PARIS 2079': 636, 'C 7075': 637, '315098': 638, '19972': 639, '368323': 640, '367228': 641, '2671': 642, '347468': 643, '2223': 644, 'PC 17756': 645, '315097': 646, '392092': 647, '11774': 648, 'SOTON/O2 3101287': 649, '2683': 650, '315090': 651, 'C.A. 5547': 652, '349213': 653, '347060': 654, 'PC 17592': 655, '392091': 656, '113055': 657, '2629': 658, '350026': 659, '28134': 660, '17466': 661, '233866': 662, '236852': 663, 'SC/PARIS 2149': 664, 'PC 17590': 665, '345777': 666, '349248': 667, '695': 668, '345765': 669, '2667': 670, '349212': 671, '349217': 672, '349257': 673, '7552': 674, 'C.A./SOTON 34068': 675, 'SOTON/OQ 392076': 676, '211536': 677, '112053': 678, '111369': 679, '370376': 680}\n",
            "Cabin <class 'type'>\n",
            "Cabin\n",
            "{nan: 0, 'C85': 1, 'C123': 2, 'E46': 3, 'G6': 4, 'C103': 5, 'D56': 6, 'A6': 7, 'C23 C25 C27': 8, 'B78': 9, 'D33': 10, 'B30': 11, 'C52': 12, 'B28': 13, 'C83': 14, 'F33': 15, 'F G73': 16, 'E31': 17, 'A5': 18, 'D10 D12': 19, 'D26': 20, 'C110': 21, 'B58 B60': 22, 'E101': 23, 'F E69': 24, 'D47': 25, 'B86': 26, 'F2': 27, 'C2': 28, 'E33': 29, 'B19': 30, 'A7': 31, 'C49': 32, 'F4': 33, 'A32': 34, 'B4': 35, 'B80': 36, 'A31': 37, 'D36': 38, 'D15': 39, 'C93': 40, 'C78': 41, 'D35': 42, 'C87': 43, 'B77': 44, 'E67': 45, 'B94': 46, 'C125': 47, 'C99': 48, 'C118': 49, 'D7': 50, 'A19': 51, 'B49': 52, 'D': 53, 'C22 C26': 54, 'C106': 55, 'C65': 56, 'E36': 57, 'C54': 58, 'B57 B59 B63 B66': 59, 'C7': 60, 'E34': 61, 'C32': 62, 'B18': 63, 'C124': 64, 'C91': 65, 'E40': 66, 'T': 67, 'C128': 68, 'D37': 69, 'B35': 70, 'E50': 71, 'C82': 72, 'B96 B98': 73, 'E10': 74, 'E44': 75, 'A34': 76, 'C104': 77, 'C111': 78, 'C92': 79, 'E38': 80, 'D21': 81, 'E12': 82, 'E63': 83, 'A14': 84, 'B37': 85, 'C30': 86, 'D20': 87, 'B79': 88, 'E25': 89, 'D46': 90, 'B73': 91, 'C95': 92, 'B38': 93, 'B39': 94, 'B22': 95, 'C86': 96, 'C70': 97, 'A16': 98, 'C101': 99, 'C68': 100, 'A10': 101, 'E68': 102, 'B41': 103, 'A20': 104, 'D19': 105, 'D50': 106, 'D9': 107, 'A23': 108, 'B50': 109, 'A26': 110, 'D48': 111, 'E58': 112, 'C126': 113, 'B71': 114, 'B51 B53 B55': 115, 'D49': 116, 'B5': 117, 'B20': 118, 'F G63': 119, 'C62 C64': 120, 'E24': 121, 'C90': 122, 'C45': 123, 'E8': 124, 'B101': 125, 'D45': 126, 'C46': 127, 'D30': 128, 'E121': 129, 'D11': 130, 'E77': 131, 'F38': 132, 'B3': 133, 'D6': 134, 'B82 B84': 135, 'D17': 136, 'A36': 137, 'B102': 138, 'B69': 139, 'E49': 140, 'C47': 141, 'D28': 142, 'E17': 143, 'A24': 144, 'C50': 145, 'B42': 146, 'C148': 147}\n",
            "Embarked <class 'type'>\n",
            "Embarked\n",
            "{'S': 0, 'C': 1, 'Q': 2}\n",
            "Name <class 'type'>\n",
            "Name\n",
            "{'Kelly, Mr. James': 0, 'Wilkes, Mrs. James (Ellen Needs)': 1, 'Myles, Mr. Thomas Francis': 2, 'Wirz, Mr. Albert': 3, 'Hirvonen, Mrs. Alexander (Helga E Lindqvist)': 4, 'Svensson, Mr. Johan Cervin': 5, 'Connolly, Miss. Kate': 6, 'Caldwell, Mr. Albert Francis': 7, 'Abrahim, Mrs. Joseph (Sophie Halaut Easu)': 8, 'Davies, Mr. John Samuel': 9, 'Ilieff, Mr. Ylio': 10, 'Jones, Mr. Charles Cresson': 11, 'Snyder, Mrs. John Pillsbury (Nelle Stevenson)': 12, 'Howard, Mr. Benjamin': 13, 'Chaffee, Mrs. Herbert Fuller (Carrie Constance Toogood)': 14, 'del Carlo, Mrs. Sebastiano (Argenia Genovesi)': 15, 'Keane, Mr. Daniel': 16, 'Assaf, Mr. Gerios': 17, 'Ilmakangas, Miss. Ida Livija': 18, 'Assaf Khalil, Mrs. Mariana (Miriam\")\"': 19, 'Rothschild, Mr. Martin': 20, 'Olsen, Master. Artur Karl': 21, 'Flegenheim, Mrs. Alfred (Antoinette)': 22, 'Williams, Mr. Richard Norris II': 23, 'Ryerson, Mrs. Arthur Larned (Emily Maria Borie)': 24, 'Robins, Mr. Alexander A': 25, 'Ostby, Miss. Helene Ragnhild': 26, 'Daher, Mr. Shedid': 27, 'Brady, Mr. John Bertram': 28, 'Samaan, Mr. Elias': 29, 'Louch, Mr. Charles Alexander': 30, 'Jefferys, Mr. Clifford Thomas': 31, 'Dean, Mrs. Bertram (Eva Georgetta Light)': 32, 'Johnston, Mrs. Andrew G (Elizabeth Lily\" Watson)\"': 33, 'Mock, Mr. Philipp Edmund': 34, 'Katavelas, Mr. Vassilios (Catavelas Vassilios\")\"': 35, 'Roth, Miss. Sarah A': 36, 'Cacic, Miss. Manda': 37, 'Sap, Mr. Julius': 38, 'Hee, Mr. Ling': 39, 'Karun, Mr. Franz': 40, 'Franklin, Mr. Thomas Parham': 41, 'Goldsmith, Mr. Nathan': 42, 'Corbett, Mrs. Walter H (Irene Colvin)': 43, 'Kimball, Mrs. Edwin Nelson Jr (Gertrude Parsons)': 44, 'Peltomaki, Mr. Nikolai Johannes': 45, 'Chevre, Mr. Paul Romaine': 46, 'Shaughnessy, Mr. Patrick': 47, 'Bucknell, Mrs. William Robert (Emma Eliza Ward)': 48, 'Coutts, Mrs. William (Winnie Minnie\" Treanor)\"': 49, 'Smith, Mr. Lucien Philip': 50, 'Pulbaum, Mr. Franz': 51, 'Hocking, Miss. Ellen Nellie\"\"': 52, 'Fortune, Miss. Ethel Flora': 53, 'Mangiavacchi, Mr. Serafino Emilio': 54, 'Rice, Master. Albert': 55, 'Cor, Mr. Bartol': 56, 'Abelseth, Mr. Olaus Jorgensen': 57, 'Davison, Mr. Thomas Henry': 58, 'Chaudanson, Miss. Victorine': 59, 'Dika, Mr. Mirko': 60, 'McCrae, Mr. Arthur Gordon': 61, 'Bjorklund, Mr. Ernst Herbert': 62, 'Bradley, Miss. Bridget Delia': 63, 'Ryerson, Master. John Borie': 64, 'Corey, Mrs. Percy C (Mary Phyllis Elizabeth Miller)': 65, 'Burns, Miss. Mary Delia': 66, 'Moore, Mr. Clarence Bloomfield': 67, 'Tucker, Mr. Gilbert Milligan Jr': 68, 'Fortune, Mrs. Mark (Mary McDougald)': 69, 'Mulvihill, Miss. Bertha E': 70, 'Minkoff, Mr. Lazar': 71, 'Nieminen, Miss. Manta Josefina': 72, 'Ovies y Rodriguez, Mr. Servando': 73, 'Geiger, Miss. Amalie': 74, 'Keeping, Mr. Edwin': 75, 'Miles, Mr. Frank': 76, 'Cornell, Mrs. Robert Clifford (Malvina Helen Lamson)': 77, 'Aldworth, Mr. Charles Augustus': 78, 'Doyle, Miss. Elizabeth': 79, 'Boulos, Master. Akar': 80, 'Straus, Mr. Isidor': 81, 'Case, Mr. Howard Brown': 82, 'Demetri, Mr. Marinko': 83, 'Lamb, Mr. John Joseph': 84, 'Khalil, Mr. Betros': 85, 'Barry, Miss. Julia': 86, 'Badman, Miss. Emily Louisa': 87, \"O'Donoghue, Ms. Bridget\": 88, 'Wells, Master. Ralph Lester': 89, 'Dyker, Mrs. Adolf Fredrik (Anna Elisabeth Judith Andersson)': 90, 'Pedersen, Mr. Olaf': 91, 'Davidson, Mrs. Thornton (Orian Hays)': 92, 'Guest, Mr. Robert': 93, 'Birnbaum, Mr. Jakob': 94, 'Tenglin, Mr. Gunnar Isidor': 95, 'Cavendish, Mrs. Tyrell William (Julia Florence Siegel)': 96, 'Makinen, Mr. Kalle Edvard': 97, 'Braf, Miss. Elin Ester Maria': 98, 'Nancarrow, Mr. William Henry': 99, 'Stengel, Mrs. Charles Emil Henry (Annie May Morris)': 100, 'Weisz, Mr. Leopold': 101, 'Foley, Mr. William': 102, 'Johansson Palmquist, Mr. Oskar Leander': 103, 'Thomas, Mrs. Alexander (Thamine Thelma\")\"': 104, 'Holthen, Mr. Johan Martin': 105, 'Buckley, Mr. Daniel': 106, 'Ryan, Mr. Edward': 107, 'Willer, Mr. Aaron (Abi Weller\")\"': 108, 'Swane, Mr. George': 109, 'Stanton, Mr. Samuel Ward': 110, 'Shine, Miss. Ellen Natalia': 111, 'Evans, Miss. Edith Corse': 112, 'Buckley, Miss. Katherine': 113, 'Straus, Mrs. Isidor (Rosalie Ida Blun)': 114, 'Chronopoulos, Mr. Demetrios': 115, 'Thomas, Mr. John': 116, 'Sandstrom, Miss. Beatrice Irene': 117, 'Beattie, Mr. Thomson': 118, 'Chapman, Mrs. John Henry (Sara Elizabeth Lawry)': 119, 'Watt, Miss. Bertha J': 120, 'Kiernan, Mr. John': 121, 'Schabert, Mrs. Paul (Emma Mock)': 122, 'Carver, Mr. Alfred John': 123, 'Kennedy, Mr. John': 124, 'Cribb, Miss. Laura Alice': 125, 'Brobeck, Mr. Karl Rudolf': 126, 'McCoy, Miss. Alicia': 127, 'Bowenur, Mr. Solomon': 128, 'Petersen, Mr. Marius': 129, 'Spinner, Mr. Henry John': 130, 'Gracie, Col. Archibald IV': 131, 'Lefebre, Mrs. Frank (Frances)': 132, 'Thomas, Mr. Charles P': 133, 'Dintcheff, Mr. Valtcho': 134, 'Carlsson, Mr. Carl Robert': 135, 'Zakarian, Mr. Mapriededer': 136, 'Schmidt, Mr. August': 137, 'Drapkin, Miss. Jennie': 138, 'Goodwin, Mr. Charles Frederick': 139, 'Goodwin, Miss. Jessie Allis': 140, 'Daniels, Miss. Sarah': 141, 'Ryerson, Mr. Arthur Larned': 142, 'Beauchamp, Mr. Henry James': 143, 'Lindeberg-Lind, Mr. Erik Gustaf (Mr Edward Lingrey\")\"': 144, 'Vander Planke, Mr. Julius': 145, 'Hilliard, Mr. Herbert Henry': 146, 'Davies, Mr. Evan': 147, 'Crafton, Mr. John Bertram': 148, 'Lahtinen, Rev. William': 149, 'Earnshaw, Mrs. Boulton (Olive Potter)': 150, 'Matinoff, Mr. Nicola': 151, 'Storey, Mr. Thomas': 152, 'Klasen, Mrs. (Hulda Kristina Eugenia Lofqvist)': 153, 'Asplund, Master. Filip Oscar': 154, 'Duquemin, Mr. Joseph': 155, 'Bird, Miss. Ellen': 156, 'Lundin, Miss. Olga Elida': 157, 'Borebank, Mr. John James': 158, 'Peacock, Mrs. Benjamin (Edith Nile)': 159, 'Smyth, Miss. Julia': 160, 'Touma, Master. Georges Youssef': 161, 'Wright, Miss. Marion': 162, 'Pearce, Mr. Ernest': 163, 'Peruschitz, Rev. Joseph Maria': 164, 'Kink-Heilmann, Mrs. Anton (Luise Heilmann)': 165, 'Brandeis, Mr. Emil': 166, 'Ford, Mr. Edward Watson': 167, 'Cassebeer, Mrs. Henry Arthur Jr (Eleanor Genevieve Fosdick)': 168, 'Hellstrom, Miss. Hilda Maria': 169, 'Lithman, Mr. Simon': 170, 'Zakarian, Mr. Ortin': 171, 'Dyker, Mr. Adolf Fredrik': 172, 'Torfa, Mr. Assad': 173, 'Asplund, Mr. Carl Oscar Vilhelm Gustafsson': 174, 'Brown, Miss. Edith Eileen': 175, 'Sincock, Miss. Maude': 176, 'Stengel, Mr. Charles Emil Henry': 177, 'Becker, Mrs. Allen Oliver (Nellie E Baumgardner)': 178, 'Compton, Mrs. Alexander Taylor (Mary Eliza Ingersoll)': 179, 'McCrie, Mr. James Matthew': 180, 'Compton, Mr. Alexander Taylor Jr': 181, 'Marvin, Mrs. Daniel Warner (Mary Graham Carmichael Farquarson)': 182, 'Lane, Mr. Patrick': 183, 'Douglas, Mrs. Frederick Charles (Mary Helene Baxter)': 184, 'Maybery, Mr. Frank Hubert': 185, 'Phillips, Miss. Alice Frances Louisa': 186, 'Davies, Mr. Joseph': 187, 'Sage, Miss. Ada': 188, 'Veal, Mr. James': 189, 'Angle, Mr. William A': 190, 'Salomon, Mr. Abraham L': 191, 'van Billiard, Master. Walter John': 192, 'Lingane, Mr. John': 193, 'Drew, Master. Marshall Brines': 194, 'Karlsson, Mr. Julius Konrad Eugen': 195, 'Spedden, Master. Robert Douglas': 196, 'Nilsson, Miss. Berta Olivia': 197, 'Baimbrigge, Mr. Charles Robert': 198, 'Rasmussen, Mrs. (Lena Jacobsen Solvang)': 199, 'Murphy, Miss. Nora': 200, 'Danbom, Master. Gilbert Sigvard Emanuel': 201, 'Astor, Col. John Jacob': 202, 'Quick, Miss. Winifred Vera': 203, 'Andrew, Mr. Frank Thomas': 204, 'Omont, Mr. Alfred Fernand': 205, 'McGowan, Miss. Katherine': 206, 'Collett, Mr. Sidney C Stuart': 207, 'Rosenbaum, Miss. Edith Louise': 208, 'Delalic, Mr. Redjo': 209, 'Andersen, Mr. Albert Karvin': 210, 'Finoli, Mr. Luigi': 211, 'Deacon, Mr. Percy William': 212, 'Howard, Mrs. Benjamin (Ellen Truelove Arman)': 213, 'Andersson, Miss. Ida Augusta Margareta': 214, 'Head, Mr. Christopher': 215, 'Mahon, Miss. Bridget Delia': 216, 'Wick, Mr. George Dennick': 217, 'Widener, Mrs. George Dunton (Eleanor Elkins)': 218, 'Thomson, Mr. Alexander Morrison': 219, 'Duran y More, Miss. Florentina': 220, 'Reynolds, Mr. Harold J': 221, 'Cook, Mrs. (Selena Rogers)': 222, 'Karlsson, Mr. Einar Gervasius': 223, 'Candee, Mrs. Edward (Helen Churchill Hungerford)': 224, 'Moubarek, Mrs. George (Omine Amenia\" Alexander)\"': 225, 'Asplund, Mr. Johan Charles': 226, 'McNeill, Miss. Bridget': 227, 'Everett, Mr. Thomas James': 228, 'Hocking, Mr. Samuel James Metcalfe': 229, 'Sweet, Mr. George Frederick': 230, 'Willard, Miss. Constance': 231, 'Wiklund, Mr. Karl Johan': 232, 'Linehan, Mr. Michael': 233, 'Cumings, Mr. John Bradley': 234, 'Vendel, Mr. Olof Edvin': 235, 'Warren, Mr. Frank Manley': 236, 'Baccos, Mr. Raffull': 237, 'Hiltunen, Miss. Marta': 238, 'Douglas, Mrs. Walter Donald (Mahala Dutton)': 239, 'Lindstrom, Mrs. Carl Johan (Sigrid Posse)': 240, 'Christy, Mrs. (Alice Frances)': 241, 'Spedden, Mr. Frederic Oakley': 242, 'Hyman, Mr. Abraham': 243, 'Johnston, Master. William Arthur Willie\"\"': 244, 'Kenyon, Mr. Frederick R': 245, 'Karnes, Mrs. J Frank (Claire Bennett)': 246, 'Drew, Mr. James Vivian': 247, 'Hold, Mrs. Stephen (Annie Margaret Hill)': 248, 'Khalil, Mrs. Betros (Zahie Maria\" Elias)\"': 249, 'West, Miss. Barbara J': 250, 'Abrahamsson, Mr. Abraham August Johannes': 251, 'Clark, Mr. Walter Miller': 252, 'Salander, Mr. Karl Johan': 253, 'Wenzel, Mr. Linhart': 254, 'MacKay, Mr. George William': 255, 'Mahon, Mr. John': 256, 'Niklasson, Mr. Samuel': 257, 'Bentham, Miss. Lilian W': 258, 'Midtsjo, Mr. Karl Albert': 259, 'de Messemaeker, Mr. Guillaume Joseph': 260, 'Nilsson, Mr. August Ferdinand': 261, 'Wells, Mrs. Arthur Henry (Addie\" Dart Trevaskis)\"': 262, 'Klasen, Miss. Gertrud Emilia': 263, 'Portaluppi, Mr. Emilio Ilario Giuseppe': 264, 'Lyntakoff, Mr. Stanko': 265, 'Chisholm, Mr. Roderick Robert Crispin': 266, 'Warren, Mr. Charles William': 267, 'Howard, Miss. May Elizabeth': 268, 'Pokrnic, Mr. Mate': 269, 'McCaffry, Mr. Thomas Francis': 270, 'Fox, Mr. Patrick': 271, 'Clark, Mrs. Walter Miller (Virginia McDowell)': 272, 'Lennon, Miss. Mary': 273, 'Saade, Mr. Jean Nassr': 274, 'Bryhl, Miss. Dagmar Jenny Ingeborg ': 275, 'Parker, Mr. Clifford Richard': 276, 'Faunthorpe, Mr. Harry': 277, 'Ware, Mr. John James': 278, 'Oxenham, Mr. Percy Thomas': 279, 'Oreskovic, Miss. Jelka': 280, 'Peacock, Master. Alfred Edward': 281, 'Fleming, Miss. Honora': 282, 'Touma, Miss. Maria Youssef': 283, 'Rosblom, Miss. Salli Helena': 284, 'Dennis, Mr. William': 285, 'Franklin, Mr. Charles (Charles Fardon)': 286, 'Snyder, Mr. John Pillsbury': 287, 'Mardirosian, Mr. Sarkis': 288, 'Ford, Mr. Arthur': 289, 'Rheims, Mr. George Alexander Lucien': 290, 'Daly, Miss. Margaret Marcella Maggie\"\"': 291, 'Nasr, Mr. Mustafa': 292, 'Dodge, Dr. Washington': 293, 'Wittevrongel, Mr. Camille': 294, 'Angheloff, Mr. Minko': 295, 'Laroche, Miss. Louise': 296, 'Samaan, Mr. Hanna': 297, 'Loring, Mr. Joseph Holland': 298, 'Johansson, Mr. Nils': 299, 'Olsson, Mr. Oscar Wilhelm': 300, 'Malachard, Mr. Noel': 301, 'Phillips, Mr. Escott Robert': 302, 'Pokrnic, Mr. Tome': 303, 'McCarthy, Miss. Catherine Katie\"\"': 304, 'Crosby, Mrs. Edward Gifford (Catherine Elizabeth Halstead)': 305, 'Allison, Mr. Hudson Joshua Creighton': 306, 'Aks, Master. Philip Frank': 307, 'Hays, Mr. Charles Melville': 308, 'Hansen, Mrs. Claus Peter (Jennie L Howard)': 309, 'Cacic, Mr. Jego Grga': 310, 'Vartanian, Mr. David': 311, 'Sadowitz, Mr. Harry': 312, 'Carr, Miss. Jeannie': 313, 'White, Mrs. John Stuart (Ella Holmes)': 314, 'Hagardon, Miss. Kate': 315, 'Spencer, Mr. William Augustus': 316, 'Rogers, Mr. Reginald Harry': 317, 'Jonsson, Mr. Nils Hilding': 318, 'Jefferys, Mr. Ernest Wilfred': 319, 'Andersson, Mr. Johan Samuel': 320, 'Krekorian, Mr. Neshan': 321, 'Nesson, Mr. Israel': 322, 'Rowe, Mr. Alfred G': 323, 'Kreuchen, Miss. Emilie': 324, 'Assam, Mr. Ali': 325, 'Becker, Miss. Ruth Elizabeth': 326, 'Rosenshine, Mr. George (Mr George Thorne\")\"': 327, 'Clarke, Mr. Charles Valentine': 328, 'Enander, Mr. Ingvar': 329, 'Davies, Mrs. John Morgan (Elizabeth Agnes Mary White) ': 330, 'Dulles, Mr. William Crothers': 331, 'Thomas, Mr. Tannous': 332, 'Nakid, Mrs. Said (Waika Mary\" Mowad)\"': 333, 'Cor, Mr. Ivan': 334, 'Maguire, Mr. John Edward': 335, 'de Brito, Mr. Jose Joaquim': 336, 'Elias, Mr. Joseph': 337, 'Denbury, Mr. Herbert': 338, 'Betros, Master. Seman': 339, 'Fillbrook, Mr. Joseph Charles': 340, 'Lundstrom, Mr. Thure Edvin': 341, 'Sage, Mr. John George': 342, 'Cardeza, Mrs. James Warburton Martinez (Charlotte Wardle Drake)': 343, 'van Billiard, Master. James William': 344, 'Abelseth, Miss. Karen Marie': 345, 'Botsford, Mr. William Hull': 346, 'Whabee, Mrs. George Joseph (Shawneene Abi-Saab)': 347, 'Giles, Mr. Ralph': 348, 'Walcroft, Miss. Nellie': 349, 'Greenfield, Mrs. Leo David (Blanche Strouse)': 350, 'Stokes, Mr. Philip Joseph': 351, 'Dibden, Mr. William': 352, 'Herman, Mr. Samuel': 353, 'Dean, Miss. Elizabeth Gladys Millvina\"\"': 354, 'Julian, Mr. Henry Forbes': 355, 'Brown, Mrs. John Murray (Caroline Lane Lamson)': 356, 'Lockyer, Mr. Edward': 357, \"O'Keefe, Mr. Patrick\": 358, 'Lindell, Mrs. Edvard Bengtsson (Elin Gerda Persson)': 359, 'Sage, Master. William Henry': 360, 'Mallet, Mrs. Albert (Antoinette Magnin)': 361, 'Ware, Mrs. John James (Florence Louise Long)': 362, 'Strilic, Mr. Ivan': 363, 'Harder, Mrs. George Achilles (Dorothy Annan)': 364, 'Sage, Mrs. John (Annie Bullen)': 365, 'Caram, Mr. Joseph': 366, 'Riihivouri, Miss. Susanna Juhantytar Sanni\"\"': 367, 'Gibson, Mrs. Leonard (Pauline C Boeson)': 368, 'Pallas y Castello, Mr. Emilio': 369, 'Giles, Mr. Edgar': 370, 'Wilson, Miss. Helen Alice': 371, 'Ismay, Mr. Joseph Bruce': 372, 'Harbeck, Mr. William H': 373, 'Dodge, Mrs. Washington (Ruth Vidaver)': 374, 'Bowen, Miss. Grace Scott': 375, 'Kink, Miss. Maria': 376, 'Cotterill, Mr. Henry Harry\"\"': 377, 'Hipkins, Mr. William Edward': 378, 'Asplund, Master. Carl Edgar': 379, \"O'Connor, Mr. Patrick\": 380, 'Foley, Mr. Joseph': 381, 'Risien, Mrs. Samuel (Emma)': 382, \"McNamee, Mrs. Neal (Eileen O'Leary)\": 383, 'Wheeler, Mr. Edwin Frederick\"\"': 384, 'Herman, Miss. Kate': 385, 'Aronsson, Mr. Ernst Axel Algot': 386, 'Ashby, Mr. John': 387, 'Canavan, Mr. Patrick': 388, 'Palsson, Master. Paul Folke': 389, 'Payne, Mr. Vivian Ponsonby': 390, 'Lines, Mrs. Ernest H (Elizabeth Lindsey James)': 391, 'Abbott, Master. Eugene Joseph': 392, 'Gilbert, Mr. William': 393, 'Kink-Heilmann, Mr. Anton': 394, 'Smith, Mrs. Lucien Philip (Mary Eloise Hughes)': 395, 'Colbert, Mr. Patrick': 396, 'Frolicher-Stehli, Mrs. Maxmillian (Margaretha Emerentia Stehli)': 397, 'Larsson-Rondberg, Mr. Edvard A': 398, 'Conlon, Mr. Thomas Henry': 399, 'Bonnell, Miss. Caroline': 400, 'Gale, Mr. Harry': 401, 'Gibson, Miss. Dorothy Winifred': 402, 'Carrau, Mr. Jose Pedro': 403, 'Frauenthal, Mr. Isaac Gerald': 404, 'Nourney, Mr. Alfred (Baron von Drachstedt\")\"': 405, 'Ware, Mr. William Jeffery': 406, 'Widener, Mr. George Dunton': 407, 'Riordan, Miss. Johanna Hannah\"\"': 408, 'Peacock, Miss. Treasteall': 409, 'Naughton, Miss. Hannah': 410, 'Minahan, Mrs. William Edward (Lillian E Thorpe)': 411, 'Henriksson, Miss. Jenny Lovisa': 412, 'Spector, Mr. Woolf': 413, 'Oliva y Ocana, Dona. Fermina': 414, 'Saether, Mr. Simon Sivertsen': 415, 'Ware, Mr. Frederick': 416, 'Peter, Master. Michael J': 417}\n",
            "Sex <class 'type'>\n",
            "Sex\n",
            "{'male': 0, 'female': 1}\n",
            "Ticket <class 'type'>\n",
            "Ticket\n",
            "{'330911': 0, '363272': 1, '240276': 2, '315154': 3, '3101298': 4, '7538': 5, '330972': 6, '248738': 7, '2657': 8, 'A/4 48871': 9, '349220': 10, '694': 11, '21228': 12, '24065': 13, 'W.E.P. 5734': 14, 'SC/PARIS 2167': 15, '233734': 16, '2692': 17, 'STON/O2. 3101270': 18, '2696': 19, 'PC 17603': 20, 'C 17368': 21, 'PC 17598': 22, 'PC 17597': 23, 'PC 17608': 24, 'A/5. 3337': 25, '113509': 26, '2698': 27, '113054': 28, '2662': 29, 'SC/AH 3085': 30, 'C.A. 31029': 31, 'C.A. 2315': 32, 'W./C. 6607': 33, '13236': 34, '2682': 35, '342712': 36, '315087': 37, '345768': 38, '1601': 39, '349256': 40, '113778': 41, 'SOTON/O.Q. 3101263': 42, '237249': 43, '11753': 44, 'STON/O 2. 3101291': 45, 'PC 17594': 46, '370374': 47, '11813': 48, 'C.A. 37671': 49, '13695': 50, 'SC/PARIS 2168': 51, '29105': 52, '19950': 53, 'SC/A.3 2861': 54, '382652': 55, '349230': 56, '348122': 57, '386525': 58, '349232': 59, '237216': 60, '347090': 61, '334914': 62, 'F.C.C. 13534': 63, '330963': 64, '113796': 65, '2543': 66, '382653': 67, '349211': 68, '3101297': 69, 'PC 17562': 70, '113503': 71, '359306': 72, '11770': 73, '248744': 74, '368702': 75, '2678': 76, 'PC 17483': 77, '19924': 78, '349238': 79, '240261': 80, '2660': 81, '330844': 82, 'A/4 31416': 83, '364856': 84, '29103': 85, '347072': 86, '345498': 87, 'F.C. 12750': 88, '376563': 89, '13905': 90, '350033': 91, '19877': 92, 'STON/O 2. 3101268': 93, '347471': 94, 'A./5. 3338': 95, '11778': 96, '228414': 97, '365235': 98, '347070': 99, '2625': 100, 'C 4001': 101, '330920': 102, '383162': 103, '3410': 104, '248734': 105, '237734': 106, '330968': 107, 'PC 17531': 108, '329944': 109, '2680': 110, '2681': 111, 'PP 9549': 112, '13050': 113, 'SC/AH 29037': 114, 'C.A. 33595': 115, '367227': 116, '392095': 117, '368783': 118, '371362': 119, '350045': 120, '367226': 121, '211535': 122, '342441': 123, 'STON/OQ. 369943': 124, '113780': 125, '4133': 126, '2621': 127, '349226': 128, '350409': 129, '2656': 130, '248659': 131, 'SOTON/OQ 392083': 132, 'CA 2144': 133, '113781': 134, '244358': 135, '17475': 136, '345763': 137, '17463': 138, 'SC/A4 23568': 139, '113791': 140, '250651': 141, '11767': 142, '349255': 143, '3701': 144, '350405': 145, '347077': 146, 'S.O./P.P. 752': 147, '347469': 148, '110489': 149, 'SOTON/O.Q. 3101315': 150, '335432': 151, '2650': 152, '220844': 153, '343271': 154, '237393': 155, '315153': 156, 'PC 17591': 157, 'W./C. 6608': 158, '17770': 159, '7548': 160, 'S.O./P.P. 251': 161, '2670': 162, '2673': 163, '29750': 164, 'C.A. 33112': 165, '230136': 166, 'PC 17756': 167, '233478': 168, '113773': 169, '7935': 170, 'PC 17558': 171, '239059': 172, 'S.O./P.P. 2': 173, 'A/4 48873': 174, 'CA. 2343': 175, '28221': 176, '226875': 177, '111163': 178, 'A/5. 851': 179, '235509': 180, '28220': 181, '347465': 182, '16966': 183, '347066': 184, 'C.A. 31030': 185, '65305': 186, '36568': 187, '347080': 188, 'PC 17757': 189, '26360': 190, 'C.A. 34050': 191, 'F.C. 12998': 192, '9232': 193, '28034': 194, 'PC 17613': 195, '349250': 196, 'SOTON/O.Q. 3101308': 197, 'S.O.C. 14879': 198, '347091': 199, '113038': 200, '330924': 201, '36928': 202, '32302': 203, 'SC/PARIS 2148': 204, '342684': 205, 'W./C. 14266': 206, '350053': 207, 'PC 17606': 208, '2661': 209, '350054': 210, '370368': 211, 'C.A. 6212': 212, '242963': 213, '220845': 214, '113795': 215, '3101266': 216, '330971': 217, 'PC 17599': 218, '350416': 219, '110813': 220, '2679': 221, '250650': 222, 'PC 17761': 223, '112377': 224, '237789': 225, '3470': 226, '17464': 227, '26707': 228, 'C.A. 34651': 229, 'SOTON/O2 3101284': 230, '13508': 231, '7266': 232, '345775': 233, 'C.A. 42795': 234, 'AQ/4 3130': 235, '363611': 236, '28404': 237, '345501': 238, '345572': 239, '350410': 240, 'C.A. 34644': 241, '349235': 242, '112051': 243, 'C.A. 49867': 244, 'A. 2. 39186': 245, '315095': 246, '368573': 247, '370371': 248, '2676': 249, '236853': 250, 'SC 14888': 251, '2926': 252, 'CA 31352': 253, 'W./C. 14260': 254, '315085': 255, '364859': 256, '370129': 257, 'A/5 21175': 258, 'SOTON/O.Q. 3101314': 259, '2655': 260, 'A/5 1478': 261, 'PC 17607': 262, '382650': 263, '2652': 264, '33638': 265, '345771': 266, '349202': 267, 'SC/Paris 2123': 268, '113801': 269, '347467': 270, '347079': 271, '237735': 272, '315092': 273, '383123': 274, '112901': 275, '392091': 276, '12749': 277, '350026': 278, '315091': 279, '2658': 280, 'LP 1588': 281, '368364': 282, 'PC 17760': 283, 'AQ/3. 30631': 284, 'PC 17569': 285, '28004': 286, '350408': 287, '347075': 288, '2654': 289, '244368': 290, '113790': 291, '24160': 292, 'SOTON/O.Q. 3101309': 293, 'PC 17585': 294, '2003': 295, '236854': 296, 'PC 17580': 297, '2684': 298, '2653': 299, '349229': 300, '110469': 301, '244360': 302, '2675': 303, '2622': 304, 'C.A. 15185': 305, '350403': 306, 'PC 17755': 307, '348125': 308, '237670': 309, '2688': 310, '248726': 311, 'F.C.C. 13528': 312, 'PC 17759': 313, 'F.C.C. 13540': 314, '113044': 315, '11769': 316, '1222': 317, '368402': 318, '349910': 319, 'S.C./PARIS 2079': 320, '315083': 321, '11765': 322, '2689': 323, '3101295': 324, '112378': 325, 'SC/PARIS 2147': 326, '28133': 327, '112058': 328, '248746': 329, '315152': 330, '29107': 331, '680': 332, '366713': 333, '330910': 334, '364498': 335, '376566': 336, 'SC/PARIS 2159': 337, '349911': 338, '244346': 339, '364858': 340, '349909': 341, 'PC 17592': 342, 'C.A. 2673': 343, 'C.A. 30769': 344, '371109': 345, '13567': 346, '347065': 347, '21332': 348, '28664': 349, '113059': 350, '17765': 351, 'SC/PARIS 2166': 352, '28666': 353, '334915': 354, '365237': 355, '19928': 356, '347086': 357, 'A.5. 3236': 358, 'PC 17758': 359, 'SOTON/O.Q. 3101262': 360, '359309': 361, '2668': 362}\n",
            "Cabin <class 'type'>\n",
            "Cabin\n",
            "{nan: 0, 'B45': 1, 'E31': 2, 'B57 B59 B63 B66': 3, 'B36': 4, 'A21': 5, 'C78': 6, 'D34': 7, 'D19': 8, 'A9': 9, 'D15': 10, 'C31': 11, 'C23 C25 C27': 12, 'F G63': 13, 'B61': 14, 'C53': 15, 'D43': 16, 'C130': 17, 'C132': 18, 'C101': 19, 'C55 C57': 20, 'B71': 21, 'C46': 22, 'C116': 23, 'F': 24, 'A29': 25, 'G6': 26, 'C6': 27, 'C28': 28, 'C51': 29, 'E46': 30, 'C54': 31, 'C97': 32, 'D22': 33, 'B10': 34, 'F4': 35, 'E45': 36, 'E52': 37, 'D30': 38, 'B58 B60': 39, 'E34': 40, 'C62 C64': 41, 'A11': 42, 'B11': 43, 'C80': 44, 'F33': 45, 'C85': 46, 'D37': 47, 'C86': 48, 'D21': 49, 'C89': 50, 'F E46': 51, 'A34': 52, 'D': 53, 'B26': 54, 'C22 C26': 55, 'B69': 56, 'C32': 57, 'B78': 58, 'F E57': 59, 'F2': 60, 'A18': 61, 'C106': 62, 'B51 B53 B55': 63, 'D10 D12': 64, 'E60': 65, 'E50': 66, 'E39 E41': 67, 'B52 B54 B56': 68, 'C39': 69, 'B24': 70, 'D28': 71, 'B41': 72, 'C7': 73, 'D40': 74, 'D38': 75, 'C105': 76}\n",
            "Embarked <class 'type'>\n",
            "Embarked\n",
            "{'Q': 0, 'S': 1, 'C': 2}\n"
          ]
        }
      ]
    },
    {
      "cell_type": "code",
      "source": [
        "############## Cria as variáveis independentes e independente\n",
        "\n",
        "X = df.copy()\n",
        "X  = X.drop(['PassengerId'], axis=1) #remove a variável dependente do X\n",
        "y = df.iloc[:, 1]"
      ],
      "metadata": {
        "id": "PO7BNg_dg-JG"
      },
      "execution_count": null,
      "outputs": []
    },
    {
      "cell_type": "code",
      "source": [
        "print(X)"
      ],
      "metadata": {
        "id": "D48FSoB1hbYi"
      },
      "execution_count": null,
      "outputs": []
    },
    {
      "cell_type": "code",
      "source": [
        "print(y)"
      ],
      "metadata": {
        "colab": {
          "base_uri": "https://localhost:8080/"
        },
        "id": "tRopfrlkh4Kt",
        "outputId": "3ca3c112-c1fa-4162-8936-7115f54579d9"
      },
      "execution_count": null,
      "outputs": [
        {
          "output_type": "stream",
          "name": "stdout",
          "text": [
            "0      0\n",
            "1      1\n",
            "2      1\n",
            "3      1\n",
            "4      0\n",
            "      ..\n",
            "886    0\n",
            "887    1\n",
            "888    0\n",
            "889    1\n",
            "890    0\n",
            "Name: Survived, Length: 891, dtype: int64\n"
          ]
        }
      ]
    },
    {
      "cell_type": "code",
      "source": [
        "from sklearn.model_selection import train_test_split\n",
        "\n",
        "X_train, X_test, y_train, y_test = train_test_split(X, y, test_size = 0.2, random_state = 0)"
      ],
      "metadata": {
        "id": "xei7vvooh9bb"
      },
      "execution_count": null,
      "outputs": []
    },
    {
      "cell_type": "code",
      "source": [
        "from sklearn.ensemble import RandomForestClassifier"
      ],
      "metadata": {
        "id": "rF1csqw6iBh9"
      },
      "execution_count": null,
      "outputs": []
    },
    {
      "cell_type": "code",
      "source": [
        "from sklearn.model_selection import GridSearchCV\n",
        "\n",
        "def rf_param_selection(features, labels, kfolds):\n",
        "\n",
        "    N_estimators  = [10, 100, 500, 1000]   #nr. de arvores na floresta \n",
        "    Max_depths    = [3 , 5  , 10 , 15  ]   #profundidade das arvores \n",
        "\n",
        "    param_grid = {'n_estimators': N_estimators, 'max_depth' : Max_depths}\n",
        "    \n",
        "\n",
        "    grid_search = GridSearchCV(RandomForestClassifier(), param_grid, cv=kfolds)\n",
        "    grid_search.fit(features, labels)\n",
        "    best_params = grid_search.best_params_\n",
        "   \n",
        "    return best_params  "
      ],
      "metadata": {
        "id": "lOhNmrshiFVS"
      },
      "execution_count": null,
      "outputs": []
    },
    {
      "cell_type": "code",
      "source": [
        "best_params = rf_param_selection(X_train, np.array(y_train).ravel(), 5)"
      ],
      "metadata": {
        "id": "ykyDb2adiLCv"
      },
      "execution_count": null,
      "outputs": []
    },
    {
      "cell_type": "code",
      "source": [
        "print(best_params)"
      ],
      "metadata": {
        "colab": {
          "base_uri": "https://localhost:8080/"
        },
        "id": "FCE6D9sziOc1",
        "outputId": "2282b697-5cfe-46ba-a6b4-0a3ddef56b5f"
      },
      "execution_count": null,
      "outputs": [
        {
          "output_type": "stream",
          "name": "stdout",
          "text": [
            "{'max_depth': 3, 'n_estimators': 100}\n"
          ]
        }
      ]
    },
    {
      "cell_type": "code",
      "source": [
        "#criar o objeto com valores força bruta \n",
        "clf = RandomForestClassifier(n_estimators = 10,  max_depth=3, random_state = 0)\n",
        "#clf = RandomForestClassifier(n_estimators = best_params['n_estimators'], max_depth = best_params['max_depth'], random_state = 0)\n",
        "\n",
        "#ajustando o modelo \n",
        "clf.fit(X_train, y_train) \n",
        "       \n",
        "y_pred_train = clf.predict(X_train)\n",
        "\n",
        "#To retrieve the accuracy da classificação:\n",
        "accuracy_train = clf.score(X_train, y_train)  #mede o score (acuracy) do modelo \n",
        "print('Acuracia do Treino:', accuracy_train)"
      ],
      "metadata": {
        "colab": {
          "base_uri": "https://localhost:8080/"
        },
        "id": "fmW55eU4iQo2",
        "outputId": "7e5729ce-009b-4f23-d9f1-c1cf0559aabb"
      },
      "execution_count": null,
      "outputs": [
        {
          "output_type": "stream",
          "name": "stdout",
          "text": [
            "Acuracia do Treino: 0.9985955056179775\n"
          ]
        }
      ]
    },
    {
      "cell_type": "code",
      "source": [
        "print(y_pred_train)"
      ],
      "metadata": {
        "colab": {
          "base_uri": "https://localhost:8080/"
        },
        "id": "AHT6LICjiTQf",
        "outputId": "5bcc6282-c1d2-47cc-f4af-0c51b1be038e"
      },
      "execution_count": null,
      "outputs": [
        {
          "output_type": "stream",
          "name": "stdout",
          "text": [
            "[0 0 0 0 0 0 0 1 0 0 1 0 0 1 1 0 0 0 1 1 0 1 0 0 1 1 0 0 0 1 0 0 1 0 0 0 0\n",
            " 0 1 0 1 0 1 1 0 1 0 0 1 1 0 0 1 1 0 0 0 1 1 1 0 0 1 0 0 1 1 0 0 0 1 0 0 0\n",
            " 0 0 0 1 1 1 0 0 0 0 0 0 0 1 0 1 1 0 0 0 1 0 0 0 1 1 0 0 1 0 1 0 0 0 0 0 0\n",
            " 1 0 1 1 1 0 0 0 1 0 1 0 0 1 1 1 0 0 1 0 1 0 0 0 0 1 0 1 0 1 0 1 1 1 0 0 0\n",
            " 0 0 0 1 0 1 0 0 0 1 0 1 0 0 0 1 0 1 1 1 0 0 0 1 1 0 0 1 0 1 0 0 0 0 1 1 1\n",
            " 0 1 0 1 0 1 0 0 1 0 0 0 0 0 1 0 1 0 1 0 0 0 0 0 1 0 0 1 0 0 0 1 0 0 1 0 0\n",
            " 1 0 1 0 0 0 0 1 0 0 0 1 0 0 0 0 0 0 0 0 0 1 1 0 0 0 1 0 0 0 0 1 1 0 1 0 1\n",
            " 0 0 0 1 1 0 0 0 0 0 0 1 0 0 1 1 0 0 0 1 0 1 0 0 1 0 0 1 1 0 0 1 1 1 0 1 0\n",
            " 0 1 0 0 0 0 0 1 0 0 0 1 0 0 1 1 0 0 0 0 0 0 1 0 0 0 0 0 1 0 0 0 1 0 1 0 0\n",
            " 1 0 1 0 1 0 0 0 1 1 1 1 0 0 0 0 0 0 0 1 1 1 0 0 0 1 0 1 1 1 0 0 0 0 1 1 0\n",
            " 0 1 0 1 1 0 0 0 0 1 1 0 1 0 1 0 1 0 0 0 1 0 0 0 1 0 0 0 0 0 1 1 0 0 0 0 1\n",
            " 1 0 0 0 1 0 0 0 1 1 0 0 1 0 0 0 0 0 0 1 1 1 1 1 1 1 1 0 0 0 1 1 0 0 1 1 0\n",
            " 0 0 0 0 0 0 1 1 1 0 0 0 0 1 1 0 0 0 1 0 1 0 1 0 1 1 1 1 0 0 1 0 1 0 0 1 1\n",
            " 1 0 0 0 1 0 0 1 0 0 0 0 0 0 0 0 0 0 0 0 0 0 0 1 1 0 0 0 1 1 0 0 1 1 1 0 0\n",
            " 0 1 0 0 1 0 1 0 1 0 0 1 0 0 0 0 0 1 0 0 0 0 1 1 1 0 0 1 1 1 0 1 1 0 0 0 0\n",
            " 1 0 0 1 1 0 0 0 1 1 0 1 0 1 1 1 0 1 1 1 0 0 0 1 0 0 0 1 0 0 1 0 0 0 1 0 0\n",
            " 1 1 1 0 1 1 0 1 0 1 1 0 0 0 0 0 0 1 1 0 0 0 0 0 1 0 0 0 1 1 1 0 0 1 0 0 0\n",
            " 0 0 1 1 1 0 1 0 0 1 0 0 0 0 0 0 0 0 0 1 1 1 1 1 1 1 0 1 0 1 0 0 1 0 0 1 0\n",
            " 1 0 0 0 1 1 1 0 0 1 1 0 1 1 0 1 0 0 1 1 1 1 0 0 0 1 0 0 0 1 1 0 1 1 1 0 0\n",
            " 1 1 1 1 1 1 0 1 0]\n"
          ]
        }
      ]
    },
    {
      "cell_type": "code",
      "source": [
        "y_pred_test = clf.predict(X_test)\n",
        "\n",
        "#To retrieve the accuracy da classificação:\n",
        "accuracy_test = clf.score(X_test, y_test)  #mede o score (acuracy) do modelo \n",
        "print('Acuracia do Teste:', accuracy_test)"
      ],
      "metadata": {
        "colab": {
          "base_uri": "https://localhost:8080/"
        },
        "id": "flDsGQBdiX3C",
        "outputId": "ab44ff12-95a5-4ed4-9f4b-6316b754f86c"
      },
      "execution_count": null,
      "outputs": [
        {
          "output_type": "stream",
          "name": "stdout",
          "text": [
            "Acuracia do Teste: 1.0\n"
          ]
        }
      ]
    },
    {
      "cell_type": "code",
      "source": [
        "print(y_pred_test)"
      ],
      "metadata": {
        "colab": {
          "base_uri": "https://localhost:8080/"
        },
        "id": "v_V1bfPeiiES",
        "outputId": "34e1f131-acaf-4558-df42-3bfe2ba034ac"
      },
      "execution_count": null,
      "outputs": [
        {
          "output_type": "stream",
          "name": "stdout",
          "text": [
            "[0 0 0 1 1 1 1 1 1 1 0 1 0 1 1 0 0 0 0 1 0 1 0 0 0 1 0 1 1 0 0 1 0 1 0 1 0\n",
            " 0 0 0 1 0 0 0 1 0 0 1 0 0 1 1 1 0 1 0 0 0 0 1 0 0 1 0 1 0 1 0 1 1 1 1 0 0\n",
            " 0 1 0 0 0 0 0 1 0 0 0 1 1 1 1 0 0 0 1 1 0 0 1 0 0 1 0 0 0 0 0 1 1 0 0 1 0\n",
            " 1 1 0 1 1 1 1 0 1 1 0 0 0 0 0 0 1 0 0 0 0 0 0 0 0 0 0 0 0 0 1 0 0 1 0 0 1\n",
            " 1 0 0 1 0 0 1 0 0 1 0 1 0 1 1 1 0 0 0 0 0 0 0 1 0 0 1 0 1 0 0]\n"
          ]
        }
      ]
    },
    {
      "cell_type": "code",
      "source": [
        "# Import tools needed for visualization of trees \n",
        "from sklearn.tree import export_graphviz\n",
        "\n",
        "#para gerar a arvore do RandomForest \n",
        "import pydot\n",
        "\n",
        "#gerar arvore de decisão \n",
        "# Pull out one tree from the forest\n",
        "tree = clf.estimators_[5]   #exibe a 5ª árvore gerada pelo RF\n",
        "\n",
        "# Export the image to a dot file\n",
        "export_graphviz(tree, out_file = 'tree.dot', feature_names = X_train.columns, rounded = True, precision = 1)\n",
        "\n",
        "\n",
        "# Use dot file to create a graph\n",
        "(graph, ) = pydot.graph_from_dot_file('tree.dot')\n",
        "\n",
        "\n",
        "# Write graph to a png file\n",
        "graph.write_png('Decision_tree.png')\n"
      ],
      "metadata": {
        "id": "HnahesfJil6z"
      },
      "execution_count": null,
      "outputs": []
    },
    {
      "cell_type": "code",
      "source": [
        "#importância das features \n",
        "importances = clf.feature_importances_\n",
        "print(importances)"
      ],
      "metadata": {
        "colab": {
          "base_uri": "https://localhost:8080/"
        },
        "id": "kqpMeP2BiqcW",
        "outputId": "cedc6f15-9086-470c-b7ff-53725e4695fa"
      },
      "execution_count": null,
      "outputs": [
        {
          "output_type": "stream",
          "name": "stdout",
          "text": [
            "[0.55852622 0.05991426 0.20288045 0.03079921 0.01813991 0.00226165\n",
            " 0.0056764  0.10020881 0.0148744  0.00671869]\n"
          ]
        }
      ]
    },
    {
      "cell_type": "code",
      "source": [
        "#matriz de confusão \n",
        "\n",
        "from sklearn.metrics import confusion_matrix\n",
        "\n",
        "#matriz de confusão do treinamento \n",
        "mc_train = confusion_matrix(y_train, y_pred_train)"
      ],
      "metadata": {
        "id": "JOXRTzcZivXK"
      },
      "execution_count": null,
      "outputs": []
    },
    {
      "cell_type": "code",
      "source": [
        "print(mc_train)"
      ],
      "metadata": {
        "colab": {
          "base_uri": "https://localhost:8080/"
        },
        "id": "Gv2MXDC7ix8-",
        "outputId": "506c2739-d63a-4ebc-b705-e54e8e058f91"
      },
      "execution_count": null,
      "outputs": [
        {
          "output_type": "stream",
          "name": "stdout",
          "text": [
            "[[438   1]\n",
            " [  0 273]]\n"
          ]
        }
      ]
    },
    {
      "cell_type": "code",
      "source": [
        "plt.figure(figsize=(9,9))\n",
        "sns.heatmap(mc_train, annot=True, fmt=\".3f\", linewidths=.5, square = True, cmap = 'Blues_r');\n",
        "plt.ylabel('Actual label');\n",
        "plt.xlabel('Predicted label');\n",
        "all_sample_title = 'Accuracy Score: {0}'.format(accuracy_train)\n",
        "plt.title(all_sample_title, size = 15);"
      ],
      "metadata": {
        "colab": {
          "base_uri": "https://localhost:8080/",
          "height": 526
        },
        "id": "NTm02hONi1Kb",
        "outputId": "fd2c006e-2dfb-429e-f8b9-13ce4bf22951"
      },
      "execution_count": null,
      "outputs": [
        {
          "output_type": "display_data",
          "data": {
            "text/plain": [
              "<Figure size 648x648 with 2 Axes>"
            ],
            "image/png": "[encoded data removed]"
          },
          "metadata": {
            "needs_background": "light"
          }
        }
      ]
    },
    {
      "cell_type": "code",
      "source": [
        "#matriz de confusão do teste\n",
        "mc_test = confusion_matrix(y_test, y_pred_test)\n",
        "print(mc_test)"
      ],
      "metadata": {
        "colab": {
          "base_uri": "https://localhost:8080/"
        },
        "id": "Fedf-PQ_i4j3",
        "outputId": "bf638c9d-6bbf-465e-e810-0728b97cb3f5"
      },
      "execution_count": null,
      "outputs": [
        {
          "output_type": "stream",
          "name": "stdout",
          "text": [
            "[[110   0]\n",
            " [  0  69]]\n"
          ]
        }
      ]
    },
    {
      "cell_type": "code",
      "source": [
        "plt.figure(figsize=(9,9))\n",
        "sns.heatmap(mc_test, annot=True, fmt=\".3f\", linewidths=.5, square = True, cmap = 'Blues_r');\n",
        "plt.ylabel('Actual label');\n",
        "plt.xlabel('Predicted label');\n",
        "all_sample_title = 'Accuracy Score: {0}'.format(accuracy_test)\n",
        "plt.title(all_sample_title, size = 15);"
      ],
      "metadata": {
        "colab": {
          "base_uri": "https://localhost:8080/",
          "height": 526
        },
        "id": "Y0mm777si9XO",
        "outputId": "050f1458-41b1-4506-94e3-64f63b2fb721"
      },
      "execution_count": null,
      "outputs": [
        {
          "output_type": "display_data",
          "data": {
            "text/plain": [
              "<Figure size 648x648 with 2 Axes>"
            ],
            "image/png": "[encoded data removed]"
          },
          "metadata": {
            "needs_background": "light"
          }
        }
      ]
    },
    {
      "cell_type": "code",
      "source": [
        "##precision, recall , f1-score, specificity\n",
        "\n",
        "from sklearn.metrics import precision_score, recall_score, f1_score, roc_auc_score\n",
        "\n",
        "#precision score\n",
        "print('precision----------')\n",
        "print(precision_score(y_test, y_pred_test))\n",
        "\n",
        "#recall score \n",
        "print('recall----------')\n",
        "print(recall_score(y_test, y_pred_test))\n",
        "\n",
        "#f1 score\n",
        "print('f1-score----------')\n",
        "print(f1_score(y_test, y_pred_test))\n",
        "\n",
        "#specificity score\n",
        "vn, fp, fn, vp = confusion_matrix(y_test, y_pred_test).ravel()\n",
        "specificity = vn / (vn+fp)\n",
        "\n",
        "print('specificity----------')\n",
        "print(specificity)\n",
        "\n",
        "print('specificity----------')\n",
        "recall_score(y_test, y_pred_test, pos_label=0)\n",
        "\n",
        "#roc_auc score\n",
        "print('roc_auc----------')\n",
        "print(roc_auc_score(y_test, y_pred_test))\n"
      ],
      "metadata": {
        "colab": {
          "base_uri": "https://localhost:8080/"
        },
        "id": "KTpQIlbRi-5U",
        "outputId": "ae56e8a3-499e-4aeb-d57c-8a0255d4bd76"
      },
      "execution_count": null,
      "outputs": [
        {
          "output_type": "stream",
          "name": "stdout",
          "text": [
            "precision----------\n",
            "1.0\n",
            "recall----------\n",
            "1.0\n",
            "f1-score----------\n",
            "1.0\n",
            "specificity----------\n",
            "1.0\n",
            "specificity----------\n",
            "roc_auc----------\n",
            "1.0\n"
          ]
        }
      ]
    },
    {
      "cell_type": "code",
      "source": [
        "##############ROC Curve#################################################\n",
        "# uma outra excelente ferramenta para análise de modelos de classificação é a curva ROC\n",
        "#fonte\n",
        "#Machine Learning Classifier evaluation using ROC and CAP Curves\n",
        "#https://towardsdatascience.com/machine-learning-classifier-evaluation-using-roc-and-cap-curves-7db60fe6b716\n",
        "\n",
        "from sklearn.metrics import roc_curve, roc_auc_score, auc\n",
        "\n",
        "x_set = X_train\n",
        "y_set = y_train\n",
        "y_set_pred = y_pred_train\n",
        "\n",
        "plt.plot([0,1], [0,1], 'r--')\n",
        "\n",
        "train_fpr, train_tpr, tr_thresholds = roc_curve(y_train, y_pred_train)\n",
        "test_fpr , test_tpr,  te_thresholds = roc_curve(y_test, y_pred_test)\n",
        "\n",
        "print(\"Area abaixo da curva\") \n",
        "print(roc_auc_score(y_set, y_set_pred))\n",
        "\n",
        "#plt.plot(train_fpr, train_tpr)\n",
        "\n",
        "plt.plot(train_fpr, train_tpr, label=\" AUC TRAIN =\"+str(auc(train_fpr, train_tpr)))\n",
        "plt.plot(test_fpr, test_tpr, label=\" AUC TEST =\"+str(auc(test_fpr, test_tpr)))\n",
        "plt.legend()\n",
        "\n",
        "plt.xlabel('Taxa de falsos positivos - Especificidade', fontsize = 11)\n",
        "plt.ylabel('Taxa de verdadeiros positivos - Recall', fontsize = 11)\n",
        "plt.title('Receiver Operating Characteristic (ROC)', fontsize = 11)\n",
        "plt.show()"
      ],
      "metadata": {
        "colab": {
          "base_uri": "https://localhost:8080/",
          "height": 328
        },
        "id": "6ohFasqSjD94",
        "outputId": "acbf6b4d-ab4e-415b-d12f-58c21259db66"
      },
      "execution_count": null,
      "outputs": [
        {
          "output_type": "stream",
          "name": "stdout",
          "text": [
            "Area abaixo da curva\n",
            "0.998861047835991\n"
          ]
        },
        {
          "output_type": "display_data",
          "data": {
            "text/plain": [
              "<Figure size 432x288 with 1 Axes>"
            ],
            "image/png": "[encoded data removed]"
          },
          "metadata": {
            "needs_background": "light"
          }
        }
      ]
    },
    {
      "cell_type": "code",
      "source": [
        "print(y_pred_train)"
      ],
      "metadata": {
        "colab": {
          "base_uri": "https://localhost:8080/"
        },
        "id": "kKgQ3N_-kkMB",
        "outputId": "e82f5094-bdfc-4fea-c4b9-4d54b1675787"
      },
      "execution_count": null,
      "outputs": [
        {
          "output_type": "stream",
          "name": "stdout",
          "text": [
            "[0 0 0 0 0 0 0 1 0 0 1 0 0 1 1 0 0 0 1 1 0 1 0 0 1 1 0 0 0 1 0 0 1 0 0 0 0\n",
            " 0 1 0 1 0 1 1 0 1 0 0 1 1 0 0 1 1 0 0 0 1 1 1 0 0 1 0 0 1 1 0 0 0 1 0 0 0\n",
            " 0 0 0 1 1 1 0 0 0 0 0 0 0 1 0 1 1 0 0 0 1 0 0 0 1 1 0 0 1 0 1 0 0 0 0 0 0\n",
            " 1 0 1 1 1 0 0 0 1 0 1 0 0 1 1 1 0 0 1 0 1 0 0 0 0 1 0 1 0 1 0 1 1 1 0 0 0\n",
            " 0 0 0 1 0 1 0 0 0 1 0 1 0 0 0 1 0 1 1 1 0 0 0 1 1 0 0 1 0 1 0 0 0 0 1 1 1\n",
            " 0 1 0 1 0 1 0 0 1 0 0 0 0 0 1 0 1 0 1 0 0 0 0 0 1 0 0 1 0 0 0 1 0 0 1 0 0\n",
            " 1 0 1 0 0 0 0 1 0 0 0 1 0 0 0 0 0 0 0 0 0 1 1 0 0 0 1 0 0 0 0 1 1 0 1 0 1\n",
            " 0 0 0 1 1 0 0 0 0 0 0 1 0 0 1 1 0 0 0 1 0 1 0 0 1 0 0 1 1 0 0 1 1 1 0 1 0\n",
            " 0 1 0 0 0 0 0 1 0 0 0 1 0 0 1 1 0 0 0 0 0 0 1 0 0 0 0 0 1 0 0 0 1 0 1 0 0\n",
            " 1 0 1 0 1 0 0 0 1 1 1 1 0 0 0 0 0 0 0 1 1 1 0 0 0 1 0 1 1 1 0 0 0 0 1 1 0\n",
            " 0 1 0 1 1 0 0 0 0 1 1 0 1 0 1 0 1 0 0 0 1 0 0 0 1 0 0 0 0 0 1 1 0 0 0 0 1\n",
            " 1 0 0 0 1 0 0 0 1 1 0 0 1 0 0 0 0 0 0 1 1 1 1 1 1 1 1 0 0 0 1 1 0 0 1 1 0\n",
            " 0 0 0 0 0 0 1 1 1 0 0 0 0 1 1 0 0 0 1 0 1 0 1 0 1 1 1 1 0 0 1 0 1 0 0 1 1\n",
            " 1 0 0 0 1 0 0 1 0 0 0 0 0 0 0 0 0 0 0 0 0 0 0 1 1 0 0 0 1 1 0 0 1 1 1 0 0\n",
            " 0 1 0 0 1 0 1 0 1 0 0 1 0 0 0 0 0 1 0 0 0 0 1 1 1 0 0 1 1 1 0 1 1 0 0 0 0\n",
            " 1 0 0 1 1 0 0 0 1 1 0 1 0 1 1 1 0 1 1 1 0 0 0 1 0 0 0 1 0 0 1 0 0 0 1 0 0\n",
            " 1 1 1 0 1 1 0 1 0 1 1 0 0 0 0 0 0 1 1 0 0 0 0 0 1 0 0 0 1 1 1 0 0 1 0 0 0\n",
            " 0 0 1 1 1 0 1 0 0 1 0 0 0 0 0 0 0 0 0 1 1 1 1 1 1 1 0 1 0 1 0 0 1 0 0 1 0\n",
            " 1 0 0 0 1 1 1 0 0 1 1 0 1 1 0 1 0 0 1 1 1 1 0 0 0 1 0 0 0 1 1 0 1 1 1 0 0\n",
            " 1 1 1 1 1 1 0 1 0]\n"
          ]
        }
      ]
    },
    {
      "cell_type": "code",
      "source": [
        "resultado = pd.DataFrame()\n",
        "resultado['PassengerId'] = df_teste[\"PassengerId\"]\n",
        "resultado['Survived'] = y_test"
      ],
      "metadata": {
        "id": "YUZjmFpzjJad"
      },
      "execution_count": null,
      "outputs": []
    },
    {
      "cell_type": "code",
      "source": [
        "test = resultado['Survived'].value_counts()\n",
        "print(test)\n",
        "resultado.update(resultado['Survived'].fillna(1))"
      ],
      "metadata": {
        "colab": {
          "base_uri": "https://localhost:8080/"
        },
        "id": "SaPEn-a0jqDO",
        "outputId": "2c78dc2b-d0f2-455d-9955-338e1c8a956a"
      },
      "execution_count": null,
      "outputs": [
        {
          "output_type": "stream",
          "name": "stdout",
          "text": [
            "0.0    49\n",
            "1.0    32\n",
            "Name: Survived, dtype: int64\n"
          ]
        }
      ]
    },
    {
      "cell_type": "code",
      "source": [
        "resultado1 = resultado.round(1).astype(int)"
      ],
      "metadata": {
        "id": "_k436Jh6nTAG"
      },
      "execution_count": null,
      "outputs": []
    },
    {
      "cell_type": "code",
      "source": [
        "df_teste_csv = resultado1.to_csv('submissao4.csv', index = False)"
      ],
      "metadata": {
        "id": "ZufGbzxxnTFk"
      },
      "execution_count": null,
      "outputs": []
    }
  ]
}