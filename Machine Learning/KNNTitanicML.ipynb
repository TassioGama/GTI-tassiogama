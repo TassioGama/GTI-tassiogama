{
  "nbformat": 4,
  "nbformat_minor": 0,
  "metadata": {
    "colab": {
      "name": "KNNTitanicML.ipynb",
      "provenance": [],
      "authorship_tag": "ABX9TyNZtVl3KIeM3H7Tcnl76Tc/",
      "include_colab_link": true
    },
    "kernelspec": {
      "name": "python3",
      "display_name": "Python 3"
    },
    "language_info": {
      "name": "python"
    }
  },
  "cells": [
    {
      "cell_type": "markdown",
      "metadata": {
        "id": "view-in-github",
        "colab_type": "text"
      },
      "source": [
        "<a href=\"https://colab.research.google.com/github/TassioGama/GTI-tassiogama/blob/main/KNNTitanicML.ipynb\" target=\"_parent\"><img src=\"https://colab.research.google.com/assets/colab-badge.svg\" alt=\"Open In Colab\"/></a>"
      ]
    },
    {
      "cell_type": "code",
      "execution_count": 1,
      "metadata": {
        "id": "ln5WurZBxuu_"
      },
      "outputs": [],
      "source": [
        "import numpy as np \n",
        "import pandas as pd \n",
        "import matplotlib.pyplot as plt\n",
        "import seaborn as sns\n",
        "import math"
      ]
    },
    {
      "cell_type": "code",
      "source": [
        "url = 'https://github.com/gustavowillam/ML/blob/main/trabalhos/2022/Trab2/train.csv?raw=true'\n",
        "df = pd.read_csv(url)\n",
        "url='https://github.com/gustavowillam/ML/blob/main/trabalhos/2022/Trab2/test.csv?raw=true'\n",
        "df_teste = pd.read_csv(url)"
      ],
      "metadata": {
        "id": "qytLlyBnx3g4"
      },
      "execution_count": 2,
      "outputs": []
    },
    {
      "cell_type": "code",
      "source": [
        "#Tirando média da Idade e substituindo aonde os valores são nulos\n",
        "mediaidade = df['Age'].mean()\n",
        "mediaidade = math.floor(mediaidade)\n",
        "df.update(df['Age'].fillna(mediaidade))\n",
        "\n",
        "mediaidade = df_teste['Age'].mean()\n",
        "mediaidade = math.floor(mediaidade)\n",
        "df_teste.update(df_teste['Age'].fillna(mediaidade))\n",
        "print(mediaidade)"
      ],
      "metadata": {
        "colab": {
          "base_uri": "https://localhost:8080/"
        },
        "id": "pQ0KI_aJx8Le",
        "outputId": "9cf0bee6-a484-4e01-a346-22e2f13bf5a9"
      },
      "execution_count": 3,
      "outputs": [
        {
          "output_type": "stream",
          "name": "stdout",
          "text": [
            "30\n"
          ]
        }
      ]
    },
    {
      "cell_type": "code",
      "source": [
        "#Tirando mediana da coluna Embarked e substituindo aonde os valores são nulos\n",
        "medianaembarked = df['Embarked'].value_counts()\n",
        "print(medianaembarked)\n",
        "df.update(df['Embarked'].fillna('S'))\n",
        "medianaembarked = df_teste['Embarked'].value_counts()\n",
        "df_teste.update(df_teste['Embarked'].fillna('S'))\n"
      ],
      "metadata": {
        "colab": {
          "base_uri": "https://localhost:8080/"
        },
        "id": "HOXP1HwXyAQJ",
        "outputId": "5cf315af-0959-4f72-b627-d49b758abacf"
      },
      "execution_count": 4,
      "outputs": [
        {
          "output_type": "stream",
          "name": "stdout",
          "text": [
            "S    644\n",
            "C    168\n",
            "Q     77\n",
            "Name: Embarked, dtype: int64\n"
          ]
        }
      ]
    },
    {
      "cell_type": "code",
      "source": [
        "#Drop coluna Name pois é irrelevante\n",
        "df = df.drop(columns=['Name'])\n",
        "df = df.drop(columns=['Fare'])\n",
        "df = df.drop(columns=['Ticket'])\n",
        "df = df.drop(columns=['Parch'])\n",
        "df = df.drop(columns=['SibSp'])\n",
        "\n",
        "df_teste = df_teste.drop(columns=['Name'])\n",
        "df_teste = df_teste.drop(columns=['Fare'])\n",
        "df_teste = df_teste.drop(columns=['Ticket'])\n",
        "df_teste = df_teste.drop(columns=['Parch'])\n",
        "df_teste = df_teste.drop(columns=['SibSp'])"
      ],
      "metadata": {
        "id": "Xq2xvH1ryMmv"
      },
      "execution_count": 5,
      "outputs": []
    },
    {
      "cell_type": "code",
      "source": [
        "#Transformar variáveis categóricas em numéricas\n",
        "def convert_cat(df,col):\n",
        "    \"\"\"\n",
        "    input: dataframe and col list of categorical columns\n",
        "    output: dataframw with numerical values\n",
        "    \"\"\"\n",
        "    for c in col:\n",
        "        item_list = df[c].unique().tolist()\n",
        "        enum=enumerate(item_list)\n",
        "        d = dict((j,i) for i,j in enum)\n",
        "        print(c)\n",
        "        print(d)\n",
        "        \n",
        "        df[c].replace(d, inplace=True)\n",
        "    return df"
      ],
      "metadata": {
        "id": "cgsW-gdPyPFg"
      },
      "execution_count": 6,
      "outputs": []
    },
    {
      "cell_type": "code",
      "source": [
        "dtypes = df.dtypes.to_dict()      \n",
        "\n",
        "for col_name, typ in dtypes.items():\n",
        "    if (typ == 'object'): \n",
        "        print(col_name, type)\n",
        "        convert_cat(df,[col_name])\n",
        "\n",
        "dtypes = df_teste.dtypes.to_dict() \n",
        "for col_name, typ in dtypes.items():\n",
        "    if (typ == 'object'): \n",
        "        print(col_name, type)\n",
        "        convert_cat(df_teste,[col_name])    "
      ],
      "metadata": {
        "colab": {
          "base_uri": "https://localhost:8080/"
        },
        "id": "9o95IOoPyR96",
        "outputId": "d130053d-edf9-44e2-a9b3-42d4cdd48bc9"
      },
      "execution_count": 7,
      "outputs": [
        {
          "output_type": "stream",
          "name": "stdout",
          "text": [
            "Sex <class 'type'>\n",
            "Sex\n",
            "{'male': 0, 'female': 1}\n",
            "Cabin <class 'type'>\n",
            "Cabin\n",
            "{nan: 0, 'C85': 1, 'C123': 2, 'E46': 3, 'G6': 4, 'C103': 5, 'D56': 6, 'A6': 7, 'C23 C25 C27': 8, 'B78': 9, 'D33': 10, 'B30': 11, 'C52': 12, 'B28': 13, 'C83': 14, 'F33': 15, 'F G73': 16, 'E31': 17, 'A5': 18, 'D10 D12': 19, 'D26': 20, 'C110': 21, 'B58 B60': 22, 'E101': 23, 'F E69': 24, 'D47': 25, 'B86': 26, 'F2': 27, 'C2': 28, 'E33': 29, 'B19': 30, 'A7': 31, 'C49': 32, 'F4': 33, 'A32': 34, 'B4': 35, 'B80': 36, 'A31': 37, 'D36': 38, 'D15': 39, 'C93': 40, 'C78': 41, 'D35': 42, 'C87': 43, 'B77': 44, 'E67': 45, 'B94': 46, 'C125': 47, 'C99': 48, 'C118': 49, 'D7': 50, 'A19': 51, 'B49': 52, 'D': 53, 'C22 C26': 54, 'C106': 55, 'C65': 56, 'E36': 57, 'C54': 58, 'B57 B59 B63 B66': 59, 'C7': 60, 'E34': 61, 'C32': 62, 'B18': 63, 'C124': 64, 'C91': 65, 'E40': 66, 'T': 67, 'C128': 68, 'D37': 69, 'B35': 70, 'E50': 71, 'C82': 72, 'B96 B98': 73, 'E10': 74, 'E44': 75, 'A34': 76, 'C104': 77, 'C111': 78, 'C92': 79, 'E38': 80, 'D21': 81, 'E12': 82, 'E63': 83, 'A14': 84, 'B37': 85, 'C30': 86, 'D20': 87, 'B79': 88, 'E25': 89, 'D46': 90, 'B73': 91, 'C95': 92, 'B38': 93, 'B39': 94, 'B22': 95, 'C86': 96, 'C70': 97, 'A16': 98, 'C101': 99, 'C68': 100, 'A10': 101, 'E68': 102, 'B41': 103, 'A20': 104, 'D19': 105, 'D50': 106, 'D9': 107, 'A23': 108, 'B50': 109, 'A26': 110, 'D48': 111, 'E58': 112, 'C126': 113, 'B71': 114, 'B51 B53 B55': 115, 'D49': 116, 'B5': 117, 'B20': 118, 'F G63': 119, 'C62 C64': 120, 'E24': 121, 'C90': 122, 'C45': 123, 'E8': 124, 'B101': 125, 'D45': 126, 'C46': 127, 'D30': 128, 'E121': 129, 'D11': 130, 'E77': 131, 'F38': 132, 'B3': 133, 'D6': 134, 'B82 B84': 135, 'D17': 136, 'A36': 137, 'B102': 138, 'B69': 139, 'E49': 140, 'C47': 141, 'D28': 142, 'E17': 143, 'A24': 144, 'C50': 145, 'B42': 146, 'C148': 147}\n",
            "Embarked <class 'type'>\n",
            "Embarked\n",
            "{'S': 0, 'C': 1, 'Q': 2}\n",
            "Sex <class 'type'>\n",
            "Sex\n",
            "{'male': 0, 'female': 1}\n",
            "Cabin <class 'type'>\n",
            "Cabin\n",
            "{nan: 0, 'B45': 1, 'E31': 2, 'B57 B59 B63 B66': 3, 'B36': 4, 'A21': 5, 'C78': 6, 'D34': 7, 'D19': 8, 'A9': 9, 'D15': 10, 'C31': 11, 'C23 C25 C27': 12, 'F G63': 13, 'B61': 14, 'C53': 15, 'D43': 16, 'C130': 17, 'C132': 18, 'C101': 19, 'C55 C57': 20, 'B71': 21, 'C46': 22, 'C116': 23, 'F': 24, 'A29': 25, 'G6': 26, 'C6': 27, 'C28': 28, 'C51': 29, 'E46': 30, 'C54': 31, 'C97': 32, 'D22': 33, 'B10': 34, 'F4': 35, 'E45': 36, 'E52': 37, 'D30': 38, 'B58 B60': 39, 'E34': 40, 'C62 C64': 41, 'A11': 42, 'B11': 43, 'C80': 44, 'F33': 45, 'C85': 46, 'D37': 47, 'C86': 48, 'D21': 49, 'C89': 50, 'F E46': 51, 'A34': 52, 'D': 53, 'B26': 54, 'C22 C26': 55, 'B69': 56, 'C32': 57, 'B78': 58, 'F E57': 59, 'F2': 60, 'A18': 61, 'C106': 62, 'B51 B53 B55': 63, 'D10 D12': 64, 'E60': 65, 'E50': 66, 'E39 E41': 67, 'B52 B54 B56': 68, 'C39': 69, 'B24': 70, 'D28': 71, 'B41': 72, 'C7': 73, 'D40': 74, 'D38': 75, 'C105': 76}\n",
            "Embarked <class 'type'>\n",
            "Embarked\n",
            "{'Q': 0, 'S': 1, 'C': 2}\n"
          ]
        }
      ]
    },
    {
      "cell_type": "code",
      "source": [
        "#Cria as variáveis independentes e independente\n",
        "X = df.copy()\n",
        "X  = X.drop(['Survived'], axis=1) #remove a variável dependente do X\n",
        "y = df.iloc[:, 1]"
      ],
      "metadata": {
        "id": "c_dzqTGRyVrz"
      },
      "execution_count": 8,
      "outputs": []
    },
    {
      "cell_type": "code",
      "source": [
        "from sklearn.model_selection import train_test_split\n",
        "X_train, X_test, y_train, y_test = train_test_split(X, y, test_size = 0.2, random_state = 0)"
      ],
      "metadata": {
        "id": "ckxf7EV6yZOP"
      },
      "execution_count": 9,
      "outputs": []
    },
    {
      "cell_type": "code",
      "source": [
        "### pradronizar dados\n",
        "from sklearn.preprocessing import StandardScaler\n",
        "scaleX = StandardScaler()           #cria um objeto\n",
        "scaleX = scaleX.fit(X_train)        #ajusta aos dados\n",
        "X_train = scaleX.transform(X_train) #transforma os dados\n",
        "X_test = scaleX.transform(X_test)   #utransforma os dados"
      ],
      "metadata": {
        "id": "oK8au8WSyd3-"
      },
      "execution_count": 10,
      "outputs": []
    },
    {
      "cell_type": "code",
      "source": [
        "#trainamento do modelo KNN\n",
        "from sklearn.neighbors import KNeighborsClassifier"
      ],
      "metadata": {
        "id": "auQSMTwsyhFo"
      },
      "execution_count": 11,
      "outputs": []
    },
    {
      "cell_type": "code",
      "source": [
        "from sklearn.model_selection import GridSearchCV\n",
        "\n",
        "def svr_param_selection(features, labels, kfolds):\n",
        "\n",
        "    neighbors = [3, 4, 5, 6, 7]\n",
        "    metrics   = ['minkowski', 'euclidean', 'manhattan']\n",
        "\n",
        "    param_grid = {'n_neighbors': neighbors, 'metric' : metrics}\n",
        "    \n",
        "\n",
        "    grid_search = GridSearchCV(KNeighborsClassifier(), param_grid, scoring='accuracy', cv=kfolds)\n",
        "    grid_search.fit(features, labels)\n",
        "    best_params = grid_search.best_params_\n",
        "   \n",
        "    return best_params "
      ],
      "metadata": {
        "id": "H47zfpsqylx3"
      },
      "execution_count": 12,
      "outputs": []
    },
    {
      "cell_type": "code",
      "source": [
        "best_params = svr_param_selection(X_train, np.array(y_train).ravel(), 5)"
      ],
      "metadata": {
        "id": "1ytvp2Skymgd"
      },
      "execution_count": 13,
      "outputs": []
    },
    {
      "cell_type": "code",
      "source": [
        "score = []\n",
        "for k in range(1,20): \n",
        "  knn = KNeighborsClassifier(n_neighbors=k)\n",
        "  knn.fit(X_train, y_train)\n",
        "  y_pred = knn.predict(X_test)\n",
        "  score.append(accuracy_score(y_test, y_pred))"
      ],
      "metadata": {
        "id": "2YRqcA-CypHI"
      },
      "execution_count": null,
      "outputs": []
    },
    {
      "cell_type": "code",
      "source": [
        "clf = KNeighborsClassifier(n_neighbors = 5, metric = 'minkowski')"
      ],
      "metadata": {
        "id": "nhrUjjfPyvGO"
      },
      "execution_count": 15,
      "outputs": []
    },
    {
      "cell_type": "code",
      "source": [
        "#ajustando o modelo \n",
        "clf.fit(X_train, y_train) \n",
        "        \n",
        "y_pred_train = clf.predict(X_train)\n",
        "\n",
        "#To retrieve the accuracy da classificação:\n",
        "accuracy_train = clf.score(X_train, y_train)  #mede o score (acuracy) do modelo \n",
        "print('Acurácia do Treino:', accuracy_train)"
      ],
      "metadata": {
        "colab": {
          "base_uri": "https://localhost:8080/"
        },
        "id": "tzQhVWpRy3e2",
        "outputId": "7afbddc8-ecc8-46bb-9be3-c80c71b97df3"
      },
      "execution_count": 16,
      "outputs": [
        {
          "output_type": "stream",
          "name": "stdout",
          "text": [
            "Acurácia do Treino: 0.848314606741573\n"
          ]
        }
      ]
    },
    {
      "cell_type": "code",
      "source": [
        "y_pred_test = clf.predict(X_test)\n",
        "y_pred_submit = clf.predict(df_teste)\n",
        "\n",
        "#To retrieve the accuracy da classificação:\n",
        "accuracy_test = clf.score(X_test, y_test)  #mede o score (acuracy) do modelo \n",
        "print('Acuracia do Teste:', accuracy_test)"
      ],
      "metadata": {
        "colab": {
          "base_uri": "https://localhost:8080/"
        },
        "id": "UV9f0UVSzC1r",
        "outputId": "7681ddac-46c9-4d5a-a6b2-beed1c9f846b"
      },
      "execution_count": 17,
      "outputs": [
        {
          "output_type": "stream",
          "name": "stdout",
          "text": [
            "Acuracia do Teste: 0.8156424581005587\n"
          ]
        },
        {
          "output_type": "stream",
          "name": "stderr",
          "text": [
            "/usr/local/lib/python3.7/dist-packages/sklearn/base.py:444: UserWarning: X has feature names, but KNeighborsClassifier was fitted without feature names\n",
            "  f\"X has feature names, but {self.__class__.__name__} was fitted without\"\n"
          ]
        }
      ]
    },
    {
      "cell_type": "code",
      "source": [
        "resultado = pd.DataFrame()\n",
        "resultado['PassengerId'] = df_teste[\"PassengerId\"]\n",
        "resultado['Survived'] = y_pred_submit"
      ],
      "metadata": {
        "id": "WJ-GNLuezFrc"
      },
      "execution_count": 18,
      "outputs": []
    },
    {
      "cell_type": "code",
      "source": [
        "resultado1 = resultado.round(1).astype(int)"
      ],
      "metadata": {
        "id": "H9AlTPi8zhng"
      },
      "execution_count": 19,
      "outputs": []
    },
    {
      "cell_type": "code",
      "source": [
        "df_teste_csv = resultado1.to_csv('submissaoKNN.csv', index = False)"
      ],
      "metadata": {
        "id": "I2syQ48uzn8l"
      },
      "execution_count": 20,
      "outputs": []
    }
  ]
}