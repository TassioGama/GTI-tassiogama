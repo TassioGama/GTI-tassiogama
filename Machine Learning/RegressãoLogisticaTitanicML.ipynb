{
  "nbformat": 4,
  "nbformat_minor": 0,
  "metadata": {
    "colab": {
      "name": "RegressãoLogisticaTitanicML.ipynb",
      "provenance": [],
      "authorship_tag": "ABX9TyOjJjN2maVoZlZmg62x75nI",
      "include_colab_link": true
    },
    "kernelspec": {
      "name": "python3",
      "display_name": "Python 3"
    },
    "language_info": {
      "name": "python"
    }
  },
  "cells": [
    {
      "cell_type": "markdown",
      "metadata": {
        "id": "view-in-github",
        "colab_type": "text"
      },
      "source": [
        "<a href=\"https://colab.research.google.com/github/TassioGama/GTI-tassiogama/blob/main/Regress%C3%A3oLogisticaTitanicML.ipynb\" target=\"_parent\"><img src=\"https://colab.research.google.com/assets/colab-badge.svg\" alt=\"Open In Colab\"/></a>"
      ]
    },
    {
      "cell_type": "code",
      "execution_count": 20,
      "metadata": {
        "id": "9Tnos9aNuluz"
      },
      "outputs": [],
      "source": [
        "#Importando Bibliotecas\n",
        "import numpy as np \n",
        "import pandas as pd \n",
        "import matplotlib.pyplot as plt\n",
        "import seaborn as sns\n",
        "import math"
      ]
    },
    {
      "cell_type": "code",
      "source": [
        "#Importando DataFrames\n",
        "url = 'https://github.com/gustavowillam/ML/blob/main/trabalhos/2022/Trab2/train.csv?raw=true'\n",
        "df = pd.read_csv(url)\n",
        "url='https://github.com/gustavowillam/ML/blob/main/trabalhos/2022/Trab2/test.csv?raw=true'\n",
        "df_teste = pd.read_csv(url)"
      ],
      "metadata": {
        "id": "w_kYQ6d6u8_5"
      },
      "execution_count": 21,
      "outputs": []
    },
    {
      "cell_type": "code",
      "source": [
        "#Informações do DataSet\n",
        "df.info() "
      ],
      "metadata": {
        "colab": {
          "base_uri": "https://localhost:8080/"
        },
        "id": "K1nXn5FLvCZj",
        "outputId": "0340e3ae-0449-4994-878e-05ad7ac442ac"
      },
      "execution_count": 22,
      "outputs": [
        {
          "output_type": "stream",
          "name": "stdout",
          "text": [
            "<class 'pandas.core.frame.DataFrame'>\n",
            "RangeIndex: 891 entries, 0 to 890\n",
            "Data columns (total 12 columns):\n",
            " #   Column       Non-Null Count  Dtype  \n",
            "---  ------       --------------  -----  \n",
            " 0   PassengerId  891 non-null    int64  \n",
            " 1   Survived     891 non-null    int64  \n",
            " 2   Pclass       891 non-null    int64  \n",
            " 3   Name         891 non-null    object \n",
            " 4   Sex          891 non-null    object \n",
            " 5   Age          714 non-null    float64\n",
            " 6   SibSp        891 non-null    int64  \n",
            " 7   Parch        891 non-null    int64  \n",
            " 8   Ticket       891 non-null    object \n",
            " 9   Fare         891 non-null    float64\n",
            " 10  Cabin        204 non-null    object \n",
            " 11  Embarked     889 non-null    object \n",
            "dtypes: float64(2), int64(5), object(5)\n",
            "memory usage: 83.7+ KB\n"
          ]
        }
      ]
    },
    {
      "cell_type": "code",
      "source": [
        "#Número de linhas e colunas\n",
        "df.shape  "
      ],
      "metadata": {
        "colab": {
          "base_uri": "https://localhost:8080/"
        },
        "id": "Sf4c5I7yvGVH",
        "outputId": "ad778a07-7fb0-4778-d015-d7a60ccc03e7"
      },
      "execution_count": 23,
      "outputs": [
        {
          "output_type": "execute_result",
          "data": {
            "text/plain": [
              "(891, 12)"
            ]
          },
          "metadata": {},
          "execution_count": 23
        }
      ]
    },
    {
      "cell_type": "code",
      "source": [
        "#Correlação entre colunas\n",
        "df.corr() "
      ],
      "metadata": {
        "colab": {
          "base_uri": "https://localhost:8080/",
          "height": 269
        },
        "id": "zG8y480WvLbR",
        "outputId": "c27f712e-eb79-4c66-8db6-d87beed06e52"
      },
      "execution_count": 24,
      "outputs": [
        {
          "output_type": "execute_result",
          "data": {
            "text/plain": [
              "             PassengerId  Survived    Pclass       Age     SibSp     Parch  \\\n",
              "PassengerId     1.000000 -0.005007 -0.035144  0.036847 -0.057527 -0.001652   \n",
              "Survived       -0.005007  1.000000 -0.338481 -0.077221 -0.035322  0.081629   \n",
              "Pclass         -0.035144 -0.338481  1.000000 -0.369226  0.083081  0.018443   \n",
              "Age             0.036847 -0.077221 -0.369226  1.000000 -0.308247 -0.189119   \n",
              "SibSp          -0.057527 -0.035322  0.083081 -0.308247  1.000000  0.414838   \n",
              "Parch          -0.001652  0.081629  0.018443 -0.189119  0.414838  1.000000   \n",
              "Fare            0.012658  0.257307 -0.549500  0.096067  0.159651  0.216225   \n",
              "\n",
              "                 Fare  \n",
              "PassengerId  0.012658  \n",
              "Survived     0.257307  \n",
              "Pclass      -0.549500  \n",
              "Age          0.096067  \n",
              "SibSp        0.159651  \n",
              "Parch        0.216225  \n",
              "Fare         1.000000  "
            ],
            "text/html": [
              "\n",
              "  <div id=\"df-0269903d-b350-4870-b670-c270d966f9f0\">\n",
              "    <div class=\"colab-df-container\">\n",
              "      <div>\n",
              "<style scoped>\n",
              "    .dataframe tbody tr th:only-of-type {\n",
              "        vertical-align: middle;\n",
              "    }\n",
              "\n",
              "    .dataframe tbody tr th {\n",
              "        vertical-align: top;\n",
              "    }\n",
              "\n",
              "    .dataframe thead th {\n",
              "        text-align: right;\n",
              "    }\n",
              "</style>\n",
              "<table border=\"1\" class=\"dataframe\">\n",
              "  <thead>\n",
              "    <tr style=\"text-align: right;\">\n",
              "      <th></th>\n",
              "      <th>PassengerId</th>\n",
              "      <th>Survived</th>\n",
              "      <th>Pclass</th>\n",
              "      <th>Age</th>\n",
              "      <th>SibSp</th>\n",
              "      <th>Parch</th>\n",
              "      <th>Fare</th>\n",
              "    </tr>\n",
              "  </thead>\n",
              "  <tbody>\n",
              "    <tr>\n",
              "      <th>PassengerId</th>\n",
              "      <td>1.000000</td>\n",
              "      <td>-0.005007</td>\n",
              "      <td>-0.035144</td>\n",
              "      <td>0.036847</td>\n",
              "      <td>-0.057527</td>\n",
              "      <td>-0.001652</td>\n",
              "      <td>0.012658</td>\n",
              "    </tr>\n",
              "    <tr>\n",
              "      <th>Survived</th>\n",
              "      <td>-0.005007</td>\n",
              "      <td>1.000000</td>\n",
              "      <td>-0.338481</td>\n",
              "      <td>-0.077221</td>\n",
              "      <td>-0.035322</td>\n",
              "      <td>0.081629</td>\n",
              "      <td>0.257307</td>\n",
              "    </tr>\n",
              "    <tr>\n",
              "      <th>Pclass</th>\n",
              "      <td>-0.035144</td>\n",
              "      <td>-0.338481</td>\n",
              "      <td>1.000000</td>\n",
              "      <td>-0.369226</td>\n",
              "      <td>0.083081</td>\n",
              "      <td>0.018443</td>\n",
              "      <td>-0.549500</td>\n",
              "    </tr>\n",
              "    <tr>\n",
              "      <th>Age</th>\n",
              "      <td>0.036847</td>\n",
              "      <td>-0.077221</td>\n",
              "      <td>-0.369226</td>\n",
              "      <td>1.000000</td>\n",
              "      <td>-0.308247</td>\n",
              "      <td>-0.189119</td>\n",
              "      <td>0.096067</td>\n",
              "    </tr>\n",
              "    <tr>\n",
              "      <th>SibSp</th>\n",
              "      <td>-0.057527</td>\n",
              "      <td>-0.035322</td>\n",
              "      <td>0.083081</td>\n",
              "      <td>-0.308247</td>\n",
              "      <td>1.000000</td>\n",
              "      <td>0.414838</td>\n",
              "      <td>0.159651</td>\n",
              "    </tr>\n",
              "    <tr>\n",
              "      <th>Parch</th>\n",
              "      <td>-0.001652</td>\n",
              "      <td>0.081629</td>\n",
              "      <td>0.018443</td>\n",
              "      <td>-0.189119</td>\n",
              "      <td>0.414838</td>\n",
              "      <td>1.000000</td>\n",
              "      <td>0.216225</td>\n",
              "    </tr>\n",
              "    <tr>\n",
              "      <th>Fare</th>\n",
              "      <td>0.012658</td>\n",
              "      <td>0.257307</td>\n",
              "      <td>-0.549500</td>\n",
              "      <td>0.096067</td>\n",
              "      <td>0.159651</td>\n",
              "      <td>0.216225</td>\n",
              "      <td>1.000000</td>\n",
              "    </tr>\n",
              "  </tbody>\n",
              "</table>\n",
              "</div>\n",
              "      <button class=\"colab-df-convert\" onclick=\"convertToInteractive('df-0269903d-b350-4870-b670-c270d966f9f0')\"\n",
              "              title=\"Convert this dataframe to an interactive table.\"\n",
              "              style=\"display:none;\">\n",
              "        \n",
              "  <svg xmlns=\"http://www.w3.org/2000/svg\" height=\"24px\"viewBox=\"0 0 24 24\"\n",
              "       width=\"24px\">\n",
              "    <path d=\"M0 0h24v24H0V0z\" fill=\"none\"/>\n",
              "    <path d=\"M18.56 5.44l.94 2.06.94-2.06 2.06-.94-2.06-.94-.94-2.06-.94 2.06-2.06.94zm-11 1L8.5 8.5l.94-2.06 2.06-.94-2.06-.94L8.5 2.5l-.94 2.06-2.06.94zm10 10l.94 2.06.94-2.06 2.06-.94-2.06-.94-.94-2.06-.94 2.06-2.06.94z\"/><path d=\"M17.41 7.96l-1.37-1.37c-.4-.4-.92-.59-1.43-.59-.52 0-1.04.2-1.43.59L10.3 9.45l-7.72 7.72c-.78.78-.78 2.05 0 2.83L4 21.41c.39.39.9.59 1.41.59.51 0 1.02-.2 1.41-.59l7.78-7.78 2.81-2.81c.8-.78.8-2.07 0-2.86zM5.41 20L4 18.59l7.72-7.72 1.47 1.35L5.41 20z\"/>\n",
              "  </svg>\n",
              "      </button>\n",
              "      \n",
              "  <style>\n",
              "    .colab-df-container {\n",
              "      display:flex;\n",
              "      flex-wrap:wrap;\n",
              "      gap: 12px;\n",
              "    }\n",
              "\n",
              "    .colab-df-convert {\n",
              "      background-color: #E8F0FE;\n",
              "      border: none;\n",
              "      border-radius: 50%;\n",
              "      cursor: pointer;\n",
              "      display: none;\n",
              "      fill: #1967D2;\n",
              "      height: 32px;\n",
              "      padding: 0 0 0 0;\n",
              "      width: 32px;\n",
              "    }\n",
              "\n",
              "    .colab-df-convert:hover {\n",
              "      background-color: #E2EBFA;\n",
              "      box-shadow: 0px 1px 2px rgba(60, 64, 67, 0.3), 0px 1px 3px 1px rgba(60, 64, 67, 0.15);\n",
              "      fill: #174EA6;\n",
              "    }\n",
              "\n",
              "    [theme=dark] .colab-df-convert {\n",
              "      background-color: #3B4455;\n",
              "      fill: #D2E3FC;\n",
              "    }\n",
              "\n",
              "    [theme=dark] .colab-df-convert:hover {\n",
              "      background-color: #434B5C;\n",
              "      box-shadow: 0px 1px 3px 1px rgba(0, 0, 0, 0.15);\n",
              "      filter: drop-shadow(0px 1px 2px rgba(0, 0, 0, 0.3));\n",
              "      fill: #FFFFFF;\n",
              "    }\n",
              "  </style>\n",
              "\n",
              "      <script>\n",
              "        const buttonEl =\n",
              "          document.querySelector('#df-0269903d-b350-4870-b670-c270d966f9f0 button.colab-df-convert');\n",
              "        buttonEl.style.display =\n",
              "          google.colab.kernel.accessAllowed ? 'block' : 'none';\n",
              "\n",
              "        async function convertToInteractive(key) {\n",
              "          const element = document.querySelector('#df-0269903d-b350-4870-b670-c270d966f9f0');\n",
              "          const dataTable =\n",
              "            await google.colab.kernel.invokeFunction('convertToInteractive',\n",
              "                                                     [key], {});\n",
              "          if (!dataTable) return;\n",
              "\n",
              "          const docLinkHtml = 'Like what you see? Visit the ' +\n",
              "            '<a target=\"_blank\" href=https://colab.research.google.com/notebooks/data_table.ipynb>data table notebook</a>'\n",
              "            + ' to learn more about interactive tables.';\n",
              "          element.innerHTML = '';\n",
              "          dataTable['output_type'] = 'display_data';\n",
              "          await google.colab.output.renderOutput(dataTable, element);\n",
              "          const docLink = document.createElement('div');\n",
              "          docLink.innerHTML = docLinkHtml;\n",
              "          element.appendChild(docLink);\n",
              "        }\n",
              "      </script>\n",
              "    </div>\n",
              "  </div>\n",
              "  "
            ]
          },
          "metadata": {},
          "execution_count": 24
        }
      ]
    },
    {
      "cell_type": "code",
      "source": [
        "#Somando valores nulos\n",
        "df.isna().sum() "
      ],
      "metadata": {
        "colab": {
          "base_uri": "https://localhost:8080/"
        },
        "id": "1OAxvwWIvS5I",
        "outputId": "fd84c1c1-2766-45ed-ee56-78801397fe10"
      },
      "execution_count": 25,
      "outputs": [
        {
          "output_type": "execute_result",
          "data": {
            "text/plain": [
              "PassengerId      0\n",
              "Survived         0\n",
              "Pclass           0\n",
              "Name             0\n",
              "Sex              0\n",
              "Age            177\n",
              "SibSp            0\n",
              "Parch            0\n",
              "Ticket           0\n",
              "Fare             0\n",
              "Cabin          687\n",
              "Embarked         2\n",
              "dtype: int64"
            ]
          },
          "metadata": {},
          "execution_count": 25
        }
      ]
    },
    {
      "cell_type": "code",
      "source": [
        "#Tirando média da Idade e substituindo aonde os valores são nulos\n",
        "mediaidade = df['Age'].mean()\n",
        "mediaidade = math.floor(mediaidade)\n",
        "df.update(df['Age'].fillna(mediaidade))\n",
        "print(mediaidade)\n",
        "mediaidade = df_teste['Age'].mean()\n",
        "mediaidade = math.floor(mediaidade)\n",
        "df_teste.update(df['Age'].fillna(mediaidade))\n",
        "print(mediaidade)"
      ],
      "metadata": {
        "colab": {
          "base_uri": "https://localhost:8080/"
        },
        "id": "6QDbRsWJvXZQ",
        "outputId": "637199ce-8ab6-4159-ad06-3c2ab0f32c60"
      },
      "execution_count": 26,
      "outputs": [
        {
          "output_type": "stream",
          "name": "stdout",
          "text": [
            "29\n",
            "30\n"
          ]
        }
      ]
    },
    {
      "cell_type": "code",
      "source": [
        "#Tirando mediana da coluna Embarked e substituindo aonde os valores são nulos\n",
        "medianaembarked = df['Embarked'].value_counts()\n",
        "print(medianaembarked)\n",
        "df.update(df['Embarked'].fillna('S'))\n",
        "medianaembarked = df_teste['Embarked'].value_counts()\n",
        "df_teste.update(df_teste['Embarked'].fillna('S'))"
      ],
      "metadata": {
        "colab": {
          "base_uri": "https://localhost:8080/"
        },
        "id": "pDmkmbVevn1d",
        "outputId": "4c67de8b-b508-405d-b9cc-9bcf3ad6cfb6"
      },
      "execution_count": 27,
      "outputs": [
        {
          "output_type": "stream",
          "name": "stdout",
          "text": [
            "S    644\n",
            "C    168\n",
            "Q     77\n",
            "Name: Embarked, dtype: int64\n"
          ]
        }
      ]
    },
    {
      "cell_type": "code",
      "source": [
        "#Drop coluna Name pois é irrelevante\n",
        "df = df.drop(columns=['Name'])\n",
        "df = df.drop(columns=['Fare'])\n",
        "df = df.drop(columns=['Ticket'])\n",
        "df = df.drop(columns=['Parch'])\n",
        "df = df.drop(columns=['SibSp'])\n",
        "\n",
        "df_teste = df_teste.drop(columns=['Name'])\n",
        "df_teste = df_teste.drop(columns=['Fare'])\n",
        "df_teste = df_teste.drop(columns=['Ticket'])\n",
        "df_teste = df_teste.drop(columns=['Parch'])\n",
        "df_teste = df_teste.drop(columns=['SibSp'])"
      ],
      "metadata": {
        "id": "Z8l3meAOvta-"
      },
      "execution_count": 28,
      "outputs": []
    },
    {
      "cell_type": "code",
      "source": [
        "#Transformar variáveis categóricas em numéricas\n",
        "def convert_cat(df,col):\n",
        "    \"\"\"\n",
        "    input: dataframe and col list of categorical columns\n",
        "    output: dataframw with numerical values\n",
        "    \"\"\"\n",
        "    for c in col:\n",
        "        item_list = df[c].unique().tolist()\n",
        "        enum=enumerate(item_list)\n",
        "        d = dict((j,i) for i,j in enum)\n",
        "        print(c)\n",
        "        print(d)\n",
        "        \n",
        "        df[c].replace(d, inplace=True)\n",
        "    return df\n"
      ],
      "metadata": {
        "id": "zbGtjkrIvz1-"
      },
      "execution_count": 29,
      "outputs": []
    },
    {
      "cell_type": "code",
      "source": [
        "dtypes = df.dtypes.to_dict()      \n",
        "\n",
        "for col_name, typ in dtypes.items():\n",
        "    if (typ == 'object'): \n",
        "        print(col_name, type)\n",
        "        convert_cat(df,[col_name])\n",
        "\n",
        "dtypes = df_teste.dtypes.to_dict() \n",
        "for col_name, typ in dtypes.items():\n",
        "    if (typ == 'object'): \n",
        "        print(col_name, type)\n",
        "        convert_cat(df_teste,[col_name])    "
      ],
      "metadata": {
        "colab": {
          "base_uri": "https://localhost:8080/"
        },
        "id": "bXiCXfvVv0zP",
        "outputId": "a6d5b3cb-cfad-49cf-f15e-eae98cb814b4"
      },
      "execution_count": 30,
      "outputs": [
        {
          "output_type": "stream",
          "name": "stdout",
          "text": [
            "Sex <class 'type'>\n",
            "Sex\n",
            "{'male': 0, 'female': 1}\n",
            "Cabin <class 'type'>\n",
            "Cabin\n",
            "{nan: 0, 'C85': 1, 'C123': 2, 'E46': 3, 'G6': 4, 'C103': 5, 'D56': 6, 'A6': 7, 'C23 C25 C27': 8, 'B78': 9, 'D33': 10, 'B30': 11, 'C52': 12, 'B28': 13, 'C83': 14, 'F33': 15, 'F G73': 16, 'E31': 17, 'A5': 18, 'D10 D12': 19, 'D26': 20, 'C110': 21, 'B58 B60': 22, 'E101': 23, 'F E69': 24, 'D47': 25, 'B86': 26, 'F2': 27, 'C2': 28, 'E33': 29, 'B19': 30, 'A7': 31, 'C49': 32, 'F4': 33, 'A32': 34, 'B4': 35, 'B80': 36, 'A31': 37, 'D36': 38, 'D15': 39, 'C93': 40, 'C78': 41, 'D35': 42, 'C87': 43, 'B77': 44, 'E67': 45, 'B94': 46, 'C125': 47, 'C99': 48, 'C118': 49, 'D7': 50, 'A19': 51, 'B49': 52, 'D': 53, 'C22 C26': 54, 'C106': 55, 'C65': 56, 'E36': 57, 'C54': 58, 'B57 B59 B63 B66': 59, 'C7': 60, 'E34': 61, 'C32': 62, 'B18': 63, 'C124': 64, 'C91': 65, 'E40': 66, 'T': 67, 'C128': 68, 'D37': 69, 'B35': 70, 'E50': 71, 'C82': 72, 'B96 B98': 73, 'E10': 74, 'E44': 75, 'A34': 76, 'C104': 77, 'C111': 78, 'C92': 79, 'E38': 80, 'D21': 81, 'E12': 82, 'E63': 83, 'A14': 84, 'B37': 85, 'C30': 86, 'D20': 87, 'B79': 88, 'E25': 89, 'D46': 90, 'B73': 91, 'C95': 92, 'B38': 93, 'B39': 94, 'B22': 95, 'C86': 96, 'C70': 97, 'A16': 98, 'C101': 99, 'C68': 100, 'A10': 101, 'E68': 102, 'B41': 103, 'A20': 104, 'D19': 105, 'D50': 106, 'D9': 107, 'A23': 108, 'B50': 109, 'A26': 110, 'D48': 111, 'E58': 112, 'C126': 113, 'B71': 114, 'B51 B53 B55': 115, 'D49': 116, 'B5': 117, 'B20': 118, 'F G63': 119, 'C62 C64': 120, 'E24': 121, 'C90': 122, 'C45': 123, 'E8': 124, 'B101': 125, 'D45': 126, 'C46': 127, 'D30': 128, 'E121': 129, 'D11': 130, 'E77': 131, 'F38': 132, 'B3': 133, 'D6': 134, 'B82 B84': 135, 'D17': 136, 'A36': 137, 'B102': 138, 'B69': 139, 'E49': 140, 'C47': 141, 'D28': 142, 'E17': 143, 'A24': 144, 'C50': 145, 'B42': 146, 'C148': 147}\n",
            "Embarked <class 'type'>\n",
            "Embarked\n",
            "{'S': 0, 'C': 1, 'Q': 2}\n",
            "Sex <class 'type'>\n",
            "Sex\n",
            "{'male': 0, 'female': 1}\n",
            "Cabin <class 'type'>\n",
            "Cabin\n",
            "{nan: 0, 'B45': 1, 'E31': 2, 'B57 B59 B63 B66': 3, 'B36': 4, 'A21': 5, 'C78': 6, 'D34': 7, 'D19': 8, 'A9': 9, 'D15': 10, 'C31': 11, 'C23 C25 C27': 12, 'F G63': 13, 'B61': 14, 'C53': 15, 'D43': 16, 'C130': 17, 'C132': 18, 'C101': 19, 'C55 C57': 20, 'B71': 21, 'C46': 22, 'C116': 23, 'F': 24, 'A29': 25, 'G6': 26, 'C6': 27, 'C28': 28, 'C51': 29, 'E46': 30, 'C54': 31, 'C97': 32, 'D22': 33, 'B10': 34, 'F4': 35, 'E45': 36, 'E52': 37, 'D30': 38, 'B58 B60': 39, 'E34': 40, 'C62 C64': 41, 'A11': 42, 'B11': 43, 'C80': 44, 'F33': 45, 'C85': 46, 'D37': 47, 'C86': 48, 'D21': 49, 'C89': 50, 'F E46': 51, 'A34': 52, 'D': 53, 'B26': 54, 'C22 C26': 55, 'B69': 56, 'C32': 57, 'B78': 58, 'F E57': 59, 'F2': 60, 'A18': 61, 'C106': 62, 'B51 B53 B55': 63, 'D10 D12': 64, 'E60': 65, 'E50': 66, 'E39 E41': 67, 'B52 B54 B56': 68, 'C39': 69, 'B24': 70, 'D28': 71, 'B41': 72, 'C7': 73, 'D40': 74, 'D38': 75, 'C105': 76}\n",
            "Embarked <class 'type'>\n",
            "Embarked\n",
            "{'Q': 0, 'S': 1, 'C': 2}\n"
          ]
        }
      ]
    },
    {
      "cell_type": "code",
      "source": [
        "#Cria as variáveis independentes e independente\n",
        "X = df.copy()\n",
        "X  = X.drop(['Survived'], axis=1) #remove a variável dependente do X\n",
        "y = df.iloc[:, 1]"
      ],
      "metadata": {
        "id": "M_sr2_jev7jZ"
      },
      "execution_count": 31,
      "outputs": []
    },
    {
      "cell_type": "code",
      "source": [
        "from sklearn.model_selection import train_test_split\n",
        "\n",
        "X_train, X_test, y_train, y_test = train_test_split(X, y, test_size = 0.2, random_state = 0)"
      ],
      "metadata": {
        "id": "z2tZmWZWv9Cv"
      },
      "execution_count": 32,
      "outputs": []
    },
    {
      "cell_type": "code",
      "source": [
        "#biblioteca para gerar o modelo \n",
        "from sklearn.linear_model import LogisticRegression"
      ],
      "metadata": {
        "id": "OhBbDLyfwJZ5"
      },
      "execution_count": 33,
      "outputs": []
    },
    {
      "cell_type": "code",
      "source": [
        "#cria uma instancia do modelo \n",
        "clf = LogisticRegression()\n",
        "        \n",
        "#ajustando o modelo \n",
        "clf.fit(X_train, y_train) \n",
        "       \n",
        "y_pred_train = clf.predict(X_train)\n",
        "\n",
        "#To retrieve the accuracy da classificação:\n",
        "accuracy_train = clf.score(X_train, y_train)  #mede o score (acuracy) do modelo \n",
        "print('Acuracia do Treino:', accuracy_train)"
      ],
      "metadata": {
        "colab": {
          "base_uri": "https://localhost:8080/"
        },
        "id": "MgenTVagwMCw",
        "outputId": "6971fcbd-2755-4433-bbbc-3383e8e7b1ff"
      },
      "execution_count": 34,
      "outputs": [
        {
          "output_type": "stream",
          "name": "stdout",
          "text": [
            "Acuracia do Treino: 0.7879213483146067\n"
          ]
        },
        {
          "output_type": "stream",
          "name": "stderr",
          "text": [
            "/usr/local/lib/python3.7/dist-packages/sklearn/linear_model/_logistic.py:818: ConvergenceWarning: lbfgs failed to converge (status=1):\n",
            "STOP: TOTAL NO. of ITERATIONS REACHED LIMIT.\n",
            "\n",
            "Increase the number of iterations (max_iter) or scale the data as shown in:\n",
            "    https://scikit-learn.org/stable/modules/preprocessing.html\n",
            "Please also refer to the documentation for alternative solver options:\n",
            "    https://scikit-learn.org/stable/modules/linear_model.html#logistic-regression\n",
            "  extra_warning_msg=_LOGISTIC_SOLVER_CONVERGENCE_MSG,\n"
          ]
        }
      ]
    },
    {
      "cell_type": "code",
      "source": [
        "y_pred_test = clf.predict(X_test)\n",
        "y_pred_submit = clf.predict(df_teste)\n",
        "\n",
        "#To retrieve the accuracy da classificação:\n",
        "accuracy_test = clf.score(X_test, y_test)  #mede o score (acuracy) do modelo \n",
        "print('Acuracia do Teste:', accuracy_test)"
      ],
      "metadata": {
        "colab": {
          "base_uri": "https://localhost:8080/"
        },
        "id": "bKs53Hn5wTZu",
        "outputId": "b4dedb4f-29a9-40df-a36d-f69536109a40"
      },
      "execution_count": 35,
      "outputs": [
        {
          "output_type": "stream",
          "name": "stdout",
          "text": [
            "Acuracia do Teste: 0.8212290502793296\n"
          ]
        }
      ]
    },
    {
      "cell_type": "code",
      "source": [
        "#matriz de confusão \n",
        "\n",
        "from sklearn.metrics import confusion_matrix\n",
        "\n",
        "#matriz de confusão do treinamento \n",
        "mc_train = confusion_matrix(y_train, y_pred_train)"
      ],
      "metadata": {
        "id": "IfWB9aZnwVxp"
      },
      "execution_count": 36,
      "outputs": []
    },
    {
      "cell_type": "code",
      "source": [
        "resultado = pd.DataFrame()\n",
        "resultado['PassengerId'] = df_teste[\"PassengerId\"]\n",
        "resultado['Survived'] = y_pred_submit"
      ],
      "metadata": {
        "id": "oljQ9sHbwq4H"
      },
      "execution_count": 37,
      "outputs": []
    },
    {
      "cell_type": "code",
      "source": [
        "resultado1 = resultado.round(1).astype(int)"
      ],
      "metadata": {
        "id": "9FXV3zt6wzGU"
      },
      "execution_count": 38,
      "outputs": []
    },
    {
      "cell_type": "code",
      "source": [
        "df_teste_csv = resultado1.to_csv('submissaoRL.csv', index = False)"
      ],
      "metadata": {
        "id": "UrYHQrH5w0Hg"
      },
      "execution_count": 39,
      "outputs": []
    }
  ]
}