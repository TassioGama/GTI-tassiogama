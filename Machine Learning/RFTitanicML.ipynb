{
  "nbformat": 4,
  "nbformat_minor": 0,
  "metadata": {
    "colab": {
      "name": "RFTitanicML.ipynb",
      "provenance": [],
      "collapsed_sections": [],
      "authorship_tag": "ABX9TyOUKCx9p6hHCmG3RkV3WskR",
      "include_colab_link": true
    },
    "kernelspec": {
      "name": "python3",
      "display_name": "Python 3"
    },
    "language_info": {
      "name": "python"
    }
  },
  "cells": [
    {
      "cell_type": "markdown",
      "metadata": {
        "id": "view-in-github",
        "colab_type": "text"
      },
      "source": [
        "<a href=\"https://colab.research.google.com/github/TassioGama/GTI-tassiogama/blob/main/RFTitanicML.ipynb\" target=\"_parent\"><img src=\"https://colab.research.google.com/assets/colab-badge.svg\" alt=\"Open In Colab\"/></a>"
      ]
    },
    {
      "cell_type": "code",
      "execution_count": 91,
      "metadata": {
        "id": "KSti5k0HFWjk"
      },
      "outputs": [],
      "source": [
        "import numpy as np \n",
        "import pandas as pd \n",
        "import matplotlib.pyplot as plt\n",
        "import seaborn as sns\n",
        "import math\n"
      ]
    },
    {
      "cell_type": "code",
      "source": [
        "#Incluindo DataSets\n",
        "url = 'https://github.com/gustavowillam/ML/blob/main/trabalhos/2022/Trab2/train.csv?raw=true'\n",
        "df = pd.read_csv(url)\n",
        "url='https://github.com/gustavowillam/ML/blob/main/trabalhos/2022/Trab2/test.csv?raw=true'\n",
        "df_teste = pd.read_csv(url)"
      ],
      "metadata": {
        "id": "6DrnSx0lFuBs"
      },
      "execution_count": 92,
      "outputs": []
    },
    {
      "cell_type": "code",
      "source": [
        "#Informações do DataSet\n",
        "df.info() "
      ],
      "metadata": {
        "id": "5mSGaqQVFuDS",
        "colab": {
          "base_uri": "https://localhost:8080/"
        },
        "outputId": "4631e94f-54f4-4a96-ab4e-e1c3857fc1d2"
      },
      "execution_count": 93,
      "outputs": [
        {
          "output_type": "stream",
          "name": "stdout",
          "text": [
            "<class 'pandas.core.frame.DataFrame'>\n",
            "RangeIndex: 891 entries, 0 to 890\n",
            "Data columns (total 12 columns):\n",
            " #   Column       Non-Null Count  Dtype  \n",
            "---  ------       --------------  -----  \n",
            " 0   PassengerId  891 non-null    int64  \n",
            " 1   Survived     891 non-null    int64  \n",
            " 2   Pclass       891 non-null    int64  \n",
            " 3   Name         891 non-null    object \n",
            " 4   Sex          891 non-null    object \n",
            " 5   Age          714 non-null    float64\n",
            " 6   SibSp        891 non-null    int64  \n",
            " 7   Parch        891 non-null    int64  \n",
            " 8   Ticket       891 non-null    object \n",
            " 9   Fare         891 non-null    float64\n",
            " 10  Cabin        204 non-null    object \n",
            " 11  Embarked     889 non-null    object \n",
            "dtypes: float64(2), int64(5), object(5)\n",
            "memory usage: 83.7+ KB\n"
          ]
        }
      ]
    },
    {
      "cell_type": "code",
      "source": [
        "#Número de linhas e colunas\n",
        "df.shape  "
      ],
      "metadata": {
        "id": "dHBGfoNrGRjX",
        "colab": {
          "base_uri": "https://localhost:8080/"
        },
        "outputId": "012a5531-90c2-433a-dafe-7d98fd51e0bf"
      },
      "execution_count": 94,
      "outputs": [
        {
          "output_type": "execute_result",
          "data": {
            "text/plain": [
              "(891, 12)"
            ]
          },
          "metadata": {},
          "execution_count": 94
        }
      ]
    },
    {
      "cell_type": "code",
      "source": [
        "#Correlação entre colunas\n",
        "df.corr() "
      ],
      "metadata": {
        "id": "ffthQtn0GcdC",
        "colab": {
          "base_uri": "https://localhost:8080/",
          "height": 269
        },
        "outputId": "c0a25d63-f6f1-4ce4-f97b-bb08883f8149"
      },
      "execution_count": 95,
      "outputs": [
        {
          "output_type": "execute_result",
          "data": {
            "text/plain": [
              "             PassengerId  Survived    Pclass       Age     SibSp     Parch  \\\n",
              "PassengerId     1.000000 -0.005007 -0.035144  0.036847 -0.057527 -0.001652   \n",
              "Survived       -0.005007  1.000000 -0.338481 -0.077221 -0.035322  0.081629   \n",
              "Pclass         -0.035144 -0.338481  1.000000 -0.369226  0.083081  0.018443   \n",
              "Age             0.036847 -0.077221 -0.369226  1.000000 -0.308247 -0.189119   \n",
              "SibSp          -0.057527 -0.035322  0.083081 -0.308247  1.000000  0.414838   \n",
              "Parch          -0.001652  0.081629  0.018443 -0.189119  0.414838  1.000000   \n",
              "Fare            0.012658  0.257307 -0.549500  0.096067  0.159651  0.216225   \n",
              "\n",
              "                 Fare  \n",
              "PassengerId  0.012658  \n",
              "Survived     0.257307  \n",
              "Pclass      -0.549500  \n",
              "Age          0.096067  \n",
              "SibSp        0.159651  \n",
              "Parch        0.216225  \n",
              "Fare         1.000000  "
            ],
            "text/html": [
              "\n",
              "  <div id=\"df-66099fdc-8239-4ab6-a11c-eccb554d1bb5\">\n",
              "    <div class=\"colab-df-container\">\n",
              "      <div>\n",
              "<style scoped>\n",
              "    .dataframe tbody tr th:only-of-type {\n",
              "        vertical-align: middle;\n",
              "    }\n",
              "\n",
              "    .dataframe tbody tr th {\n",
              "        vertical-align: top;\n",
              "    }\n",
              "\n",
              "    .dataframe thead th {\n",
              "        text-align: right;\n",
              "    }\n",
              "</style>\n",
              "<table border=\"1\" class=\"dataframe\">\n",
              "  <thead>\n",
              "    <tr style=\"text-align: right;\">\n",
              "      <th></th>\n",
              "      <th>PassengerId</th>\n",
              "      <th>Survived</th>\n",
              "      <th>Pclass</th>\n",
              "      <th>Age</th>\n",
              "      <th>SibSp</th>\n",
              "      <th>Parch</th>\n",
              "      <th>Fare</th>\n",
              "    </tr>\n",
              "  </thead>\n",
              "  <tbody>\n",
              "    <tr>\n",
              "      <th>PassengerId</th>\n",
              "      <td>1.000000</td>\n",
              "      <td>-0.005007</td>\n",
              "      <td>-0.035144</td>\n",
              "      <td>0.036847</td>\n",
              "      <td>-0.057527</td>\n",
              "      <td>-0.001652</td>\n",
              "      <td>0.012658</td>\n",
              "    </tr>\n",
              "    <tr>\n",
              "      <th>Survived</th>\n",
              "      <td>-0.005007</td>\n",
              "      <td>1.000000</td>\n",
              "      <td>-0.338481</td>\n",
              "      <td>-0.077221</td>\n",
              "      <td>-0.035322</td>\n",
              "      <td>0.081629</td>\n",
              "      <td>0.257307</td>\n",
              "    </tr>\n",
              "    <tr>\n",
              "      <th>Pclass</th>\n",
              "      <td>-0.035144</td>\n",
              "      <td>-0.338481</td>\n",
              "      <td>1.000000</td>\n",
              "      <td>-0.369226</td>\n",
              "      <td>0.083081</td>\n",
              "      <td>0.018443</td>\n",
              "      <td>-0.549500</td>\n",
              "    </tr>\n",
              "    <tr>\n",
              "      <th>Age</th>\n",
              "      <td>0.036847</td>\n",
              "      <td>-0.077221</td>\n",
              "      <td>-0.369226</td>\n",
              "      <td>1.000000</td>\n",
              "      <td>-0.308247</td>\n",
              "      <td>-0.189119</td>\n",
              "      <td>0.096067</td>\n",
              "    </tr>\n",
              "    <tr>\n",
              "      <th>SibSp</th>\n",
              "      <td>-0.057527</td>\n",
              "      <td>-0.035322</td>\n",
              "      <td>0.083081</td>\n",
              "      <td>-0.308247</td>\n",
              "      <td>1.000000</td>\n",
              "      <td>0.414838</td>\n",
              "      <td>0.159651</td>\n",
              "    </tr>\n",
              "    <tr>\n",
              "      <th>Parch</th>\n",
              "      <td>-0.001652</td>\n",
              "      <td>0.081629</td>\n",
              "      <td>0.018443</td>\n",
              "      <td>-0.189119</td>\n",
              "      <td>0.414838</td>\n",
              "      <td>1.000000</td>\n",
              "      <td>0.216225</td>\n",
              "    </tr>\n",
              "    <tr>\n",
              "      <th>Fare</th>\n",
              "      <td>0.012658</td>\n",
              "      <td>0.257307</td>\n",
              "      <td>-0.549500</td>\n",
              "      <td>0.096067</td>\n",
              "      <td>0.159651</td>\n",
              "      <td>0.216225</td>\n",
              "      <td>1.000000</td>\n",
              "    </tr>\n",
              "  </tbody>\n",
              "</table>\n",
              "</div>\n",
              "      <button class=\"colab-df-convert\" onclick=\"convertToInteractive('df-66099fdc-8239-4ab6-a11c-eccb554d1bb5')\"\n",
              "              title=\"Convert this dataframe to an interactive table.\"\n",
              "              style=\"display:none;\">\n",
              "        \n",
              "  <svg xmlns=\"http://www.w3.org/2000/svg\" height=\"24px\"viewBox=\"0 0 24 24\"\n",
              "       width=\"24px\">\n",
              "    <path d=\"M0 0h24v24H0V0z\" fill=\"none\"/>\n",
              "    <path d=\"M18.56 5.44l.94 2.06.94-2.06 2.06-.94-2.06-.94-.94-2.06-.94 2.06-2.06.94zm-11 1L8.5 8.5l.94-2.06 2.06-.94-2.06-.94L8.5 2.5l-.94 2.06-2.06.94zm10 10l.94 2.06.94-2.06 2.06-.94-2.06-.94-.94-2.06-.94 2.06-2.06.94z\"/><path d=\"M17.41 7.96l-1.37-1.37c-.4-.4-.92-.59-1.43-.59-.52 0-1.04.2-1.43.59L10.3 9.45l-7.72 7.72c-.78.78-.78 2.05 0 2.83L4 21.41c.39.39.9.59 1.41.59.51 0 1.02-.2 1.41-.59l7.78-7.78 2.81-2.81c.8-.78.8-2.07 0-2.86zM5.41 20L4 18.59l7.72-7.72 1.47 1.35L5.41 20z\"/>\n",
              "  </svg>\n",
              "      </button>\n",
              "      \n",
              "  <style>\n",
              "    .colab-df-container {\n",
              "      display:flex;\n",
              "      flex-wrap:wrap;\n",
              "      gap: 12px;\n",
              "    }\n",
              "\n",
              "    .colab-df-convert {\n",
              "      background-color: #E8F0FE;\n",
              "      border: none;\n",
              "      border-radius: 50%;\n",
              "      cursor: pointer;\n",
              "      display: none;\n",
              "      fill: #1967D2;\n",
              "      height: 32px;\n",
              "      padding: 0 0 0 0;\n",
              "      width: 32px;\n",
              "    }\n",
              "\n",
              "    .colab-df-convert:hover {\n",
              "      background-color: #E2EBFA;\n",
              "      box-shadow: 0px 1px 2px rgba(60, 64, 67, 0.3), 0px 1px 3px 1px rgba(60, 64, 67, 0.15);\n",
              "      fill: #174EA6;\n",
              "    }\n",
              "\n",
              "    [theme=dark] .colab-df-convert {\n",
              "      background-color: #3B4455;\n",
              "      fill: #D2E3FC;\n",
              "    }\n",
              "\n",
              "    [theme=dark] .colab-df-convert:hover {\n",
              "      background-color: #434B5C;\n",
              "      box-shadow: 0px 1px 3px 1px rgba(0, 0, 0, 0.15);\n",
              "      filter: drop-shadow(0px 1px 2px rgba(0, 0, 0, 0.3));\n",
              "      fill: #FFFFFF;\n",
              "    }\n",
              "  </style>\n",
              "\n",
              "      <script>\n",
              "        const buttonEl =\n",
              "          document.querySelector('#df-66099fdc-8239-4ab6-a11c-eccb554d1bb5 button.colab-df-convert');\n",
              "        buttonEl.style.display =\n",
              "          google.colab.kernel.accessAllowed ? 'block' : 'none';\n",
              "\n",
              "        async function convertToInteractive(key) {\n",
              "          const element = document.querySelector('#df-66099fdc-8239-4ab6-a11c-eccb554d1bb5');\n",
              "          const dataTable =\n",
              "            await google.colab.kernel.invokeFunction('convertToInteractive',\n",
              "                                                     [key], {});\n",
              "          if (!dataTable) return;\n",
              "\n",
              "          const docLinkHtml = 'Like what you see? Visit the ' +\n",
              "            '<a target=\"_blank\" href=https://colab.research.google.com/notebooks/data_table.ipynb>data table notebook</a>'\n",
              "            + ' to learn more about interactive tables.';\n",
              "          element.innerHTML = '';\n",
              "          dataTable['output_type'] = 'display_data';\n",
              "          await google.colab.output.renderOutput(dataTable, element);\n",
              "          const docLink = document.createElement('div');\n",
              "          docLink.innerHTML = docLinkHtml;\n",
              "          element.appendChild(docLink);\n",
              "        }\n",
              "      </script>\n",
              "    </div>\n",
              "  </div>\n",
              "  "
            ]
          },
          "metadata": {},
          "execution_count": 95
        }
      ]
    },
    {
      "cell_type": "code",
      "source": [
        "#Colunas com valores nulos\n",
        "df.isnull().any() "
      ],
      "metadata": {
        "id": "BcE_B-gFHCIC",
        "colab": {
          "base_uri": "https://localhost:8080/"
        },
        "outputId": "08d0b7c7-2aed-4189-c62a-8fa623304406"
      },
      "execution_count": 96,
      "outputs": [
        {
          "output_type": "execute_result",
          "data": {
            "text/plain": [
              "PassengerId    False\n",
              "Survived       False\n",
              "Pclass         False\n",
              "Name           False\n",
              "Sex            False\n",
              "Age             True\n",
              "SibSp          False\n",
              "Parch          False\n",
              "Ticket         False\n",
              "Fare           False\n",
              "Cabin           True\n",
              "Embarked        True\n",
              "dtype: bool"
            ]
          },
          "metadata": {},
          "execution_count": 96
        }
      ]
    },
    {
      "cell_type": "code",
      "source": [
        "#Somando valores nulos\n",
        "df.isna().sum() "
      ],
      "metadata": {
        "colab": {
          "base_uri": "https://localhost:8080/"
        },
        "id": "blF66utWJF-f",
        "outputId": "bddd6306-1fae-4cad-bdfd-2c39d6c2c5e4"
      },
      "execution_count": 97,
      "outputs": [
        {
          "output_type": "execute_result",
          "data": {
            "text/plain": [
              "PassengerId      0\n",
              "Survived         0\n",
              "Pclass           0\n",
              "Name             0\n",
              "Sex              0\n",
              "Age            177\n",
              "SibSp            0\n",
              "Parch            0\n",
              "Ticket           0\n",
              "Fare             0\n",
              "Cabin          687\n",
              "Embarked         2\n",
              "dtype: int64"
            ]
          },
          "metadata": {},
          "execution_count": 97
        }
      ]
    },
    {
      "cell_type": "code",
      "source": [
        "#Tirando média da Idade e substituindo aonde os valores são nulos\n",
        "mediaidade = df['Age'].mean()\n",
        "mediaidade = math.floor(mediaidade)\n",
        "df.update(df['Age'].fillna(mediaidade))\n",
        "print(mediaidade)\n",
        "mediaidade = df_teste['Age'].mean()\n",
        "mediaidade = math.floor(mediaidade)\n",
        "df_teste.update(df_teste['Age'].fillna(mediaidade))\n",
        "print(mediaidade)"
      ],
      "metadata": {
        "id": "AMpYkgYuJJgh",
        "colab": {
          "base_uri": "https://localhost:8080/"
        },
        "outputId": "8b044eb0-6ba5-4df1-f59f-d83ef5aecb05"
      },
      "execution_count": 98,
      "outputs": [
        {
          "output_type": "stream",
          "name": "stdout",
          "text": [
            "29\n",
            "30\n"
          ]
        }
      ]
    },
    {
      "cell_type": "code",
      "source": [
        "#Tirando mediana da coluna Embarked e substituindo aonde os valores são nulos\n",
        "medianaembarked = df['Embarked'].value_counts()\n",
        "print(medianaembarked)\n",
        "df.update(df['Embarked'].fillna('S'))\n",
        "medianaembarked = df_teste['Embarked'].value_counts()\n",
        "print(medianaembarked)\n",
        "df_teste.update(df_teste['Embarked'].fillna('S'))"
      ],
      "metadata": {
        "colab": {
          "base_uri": "https://localhost:8080/"
        },
        "id": "0buFBuaPLKGi",
        "outputId": "f05e08b3-424a-4ec4-9289-890215699197"
      },
      "execution_count": 99,
      "outputs": [
        {
          "output_type": "stream",
          "name": "stdout",
          "text": [
            "S    644\n",
            "C    168\n",
            "Q     77\n",
            "Name: Embarked, dtype: int64\n",
            "S    270\n",
            "C    102\n",
            "Q     46\n",
            "Name: Embarked, dtype: int64\n"
          ]
        }
      ]
    },
    {
      "cell_type": "code",
      "source": [
        "#Drop coluna Name pois é irrelevante\n",
        "df = df.drop(columns=['Name'])\n",
        "df = df.drop(columns=['Fare'])\n",
        "df = df.drop(columns=['Ticket'])\n",
        "df = df.drop(columns=['Parch'])\n",
        "df = df.drop(columns=['SibSp'])\n",
        "df = df.drop(columns=['Cabin'])\n",
        "\n",
        "df_teste = df_teste.drop(columns=['Name'])\n",
        "df_teste = df_teste.drop(columns=['Fare'])\n",
        "df_teste = df_teste.drop(columns=['Ticket'])\n",
        "df_teste = df_teste.drop(columns=['Parch'])\n",
        "df_teste = df_teste.drop(columns=['SibSp'])\n",
        "df_teste = df_teste.drop(columns=['Cabin'])"
      ],
      "metadata": {
        "id": "aZyWioD2LcDd"
      },
      "execution_count": 100,
      "outputs": []
    },
    {
      "cell_type": "code",
      "source": [
        "#Função para transformar variáveis categóricas em numéricas\n",
        "def convert_cat(df,col):\n",
        "    \"\"\"\n",
        "    input: dataframe and col list of categorical columns\n",
        "    output: dataframw with numerical values\n",
        "    \"\"\"\n",
        "    for c in col:\n",
        "        item_list = df[c].unique().tolist()\n",
        "        enum=enumerate(item_list)\n",
        "        d = dict((j,i) for i,j in enum)\n",
        "        print(c)\n",
        "        print(d)\n",
        "        \n",
        "        df[c].replace(d, inplace=True)\n",
        "    return df\n"
      ],
      "metadata": {
        "id": "bSRZfXYdhwUF"
      },
      "execution_count": 101,
      "outputs": []
    },
    {
      "cell_type": "code",
      "source": [
        "#Transformando variáveis categóricas em numéricas\n",
        "dtypes = df.dtypes.to_dict()      \n",
        "\n",
        "for col_name, typ in dtypes.items():\n",
        "    if (typ == 'object'): \n",
        "        print(col_name, type)\n",
        "        convert_cat(df,[col_name])\n",
        "\n",
        "dtypes = df_teste.dtypes.to_dict() \n",
        "for col_name, typ in dtypes.items():\n",
        "    if (typ == 'object'): \n",
        "        print(col_name, type)\n",
        "        convert_cat(df_teste,[col_name])    "
      ],
      "metadata": {
        "colab": {
          "base_uri": "https://localhost:8080/"
        },
        "id": "u1pzyY5Ohy3e",
        "outputId": "63f4d755-f16b-4836-b0f7-85e5b8c7972e"
      },
      "execution_count": 102,
      "outputs": [
        {
          "output_type": "stream",
          "name": "stdout",
          "text": [
            "Sex <class 'type'>\n",
            "Sex\n",
            "{'male': 0, 'female': 1}\n",
            "Embarked <class 'type'>\n",
            "Embarked\n",
            "{'S': 0, 'C': 1, 'Q': 2}\n",
            "Sex <class 'type'>\n",
            "Sex\n",
            "{'male': 0, 'female': 1}\n",
            "Embarked <class 'type'>\n",
            "Embarked\n",
            "{'Q': 0, 'S': 1, 'C': 2}\n"
          ]
        }
      ]
    },
    {
      "cell_type": "code",
      "source": [
        "#Cria as variáveis independentes e independente\n",
        "X = df.copy()\n",
        "X  = X.drop(['Survived'], axis=1) #remove a variável dependente do X\n",
        "y = df.iloc[:, 1]"
      ],
      "metadata": {
        "id": "PO7BNg_dg-JG"
      },
      "execution_count": 103,
      "outputs": []
    },
    {
      "cell_type": "code",
      "source": [
        "print(X)"
      ],
      "metadata": {
        "id": "D48FSoB1hbYi",
        "colab": {
          "base_uri": "https://localhost:8080/"
        },
        "outputId": "231fed1b-1439-4b59-c3c1-b43b2b17aae8"
      },
      "execution_count": 104,
      "outputs": [
        {
          "output_type": "stream",
          "name": "stdout",
          "text": [
            "     PassengerId  Pclass  Sex   Age  Embarked\n",
            "0              1       3    0  22.0         0\n",
            "1              2       1    1  38.0         1\n",
            "2              3       3    1  26.0         0\n",
            "3              4       1    1  35.0         0\n",
            "4              5       3    0  35.0         0\n",
            "..           ...     ...  ...   ...       ...\n",
            "886          887       2    0  27.0         0\n",
            "887          888       1    1  19.0         0\n",
            "888          889       3    1  29.0         0\n",
            "889          890       1    0  26.0         1\n",
            "890          891       3    0  32.0         2\n",
            "\n",
            "[891 rows x 5 columns]\n"
          ]
        }
      ]
    },
    {
      "cell_type": "code",
      "source": [
        "print(y)"
      ],
      "metadata": {
        "colab": {
          "base_uri": "https://localhost:8080/"
        },
        "id": "tRopfrlkh4Kt",
        "outputId": "7efee370-5318-41a7-ef3f-f4673a330d92"
      },
      "execution_count": 105,
      "outputs": [
        {
          "output_type": "stream",
          "name": "stdout",
          "text": [
            "0      0\n",
            "1      1\n",
            "2      1\n",
            "3      1\n",
            "4      0\n",
            "      ..\n",
            "886    0\n",
            "887    1\n",
            "888    0\n",
            "889    1\n",
            "890    0\n",
            "Name: Survived, Length: 891, dtype: int64\n"
          ]
        }
      ]
    },
    {
      "cell_type": "code",
      "source": [
        "#Criando Modelo e dividindo o Dataframe \n",
        "from sklearn.model_selection import train_test_split\n",
        "\n",
        "X_train, X_test, y_train, y_test = train_test_split(X, y, test_size = 0.2, random_state = 0)"
      ],
      "metadata": {
        "id": "xei7vvooh9bb"
      },
      "execution_count": 106,
      "outputs": []
    },
    {
      "cell_type": "code",
      "source": [
        "from sklearn.ensemble import RandomForestClassifier"
      ],
      "metadata": {
        "id": "rF1csqw6iBh9"
      },
      "execution_count": 107,
      "outputs": []
    },
    {
      "cell_type": "code",
      "source": [
        "from sklearn.model_selection import GridSearchCV\n",
        "\n",
        "def rf_param_selection(features, labels, kfolds):\n",
        "\n",
        "    N_estimators  = [10, 100, 500, 1000]   #nr. de arvores na floresta \n",
        "    Max_depths    = [3 , 5  , 10 , 15  ]   #profundidade das arvores \n",
        "\n",
        "    param_grid = {'n_estimators': N_estimators, 'max_depth' : Max_depths}\n",
        "    \n",
        "\n",
        "    grid_search = GridSearchCV(RandomForestClassifier(), param_grid, cv=kfolds)\n",
        "    grid_search.fit(features, labels)\n",
        "    best_params = grid_search.best_params_\n",
        "   \n",
        "    return best_params  "
      ],
      "metadata": {
        "id": "lOhNmrshiFVS"
      },
      "execution_count": 108,
      "outputs": []
    },
    {
      "cell_type": "code",
      "source": [
        "best_params = rf_param_selection(X_train, np.array(y_train).ravel(), 5)"
      ],
      "metadata": {
        "id": "ykyDb2adiLCv"
      },
      "execution_count": 109,
      "outputs": []
    },
    {
      "cell_type": "code",
      "source": [
        "print(best_params)"
      ],
      "metadata": {
        "colab": {
          "base_uri": "https://localhost:8080/"
        },
        "id": "FCE6D9sziOc1",
        "outputId": "ebb64673-674b-46a6-9572-8f92596f49ab"
      },
      "execution_count": 110,
      "outputs": [
        {
          "output_type": "stream",
          "name": "stdout",
          "text": [
            "{'max_depth': 5, 'n_estimators': 1000}\n"
          ]
        }
      ]
    },
    {
      "cell_type": "code",
      "source": [
        "#criar o objeto com valores força bruta \n",
        "clf = RandomForestClassifier(n_estimators = 10,  max_depth=3, random_state = 0)\n",
        "#clf = RandomForestClassifier(n_estimators = best_params['n_estimators'], max_depth = best_params['max_depth'], random_state = 0)\n",
        "\n",
        "#ajustando o modelo \n",
        "clf.fit(X_train, y_train) \n",
        "       \n",
        "y_pred_train = clf.predict(X_train)\n",
        "\n",
        "#To retrieve the accuracy da classificação:\n",
        "accuracy_train = clf.score(X_train, y_train)  #mede o score (acuracy) do modelo \n",
        "print('Acuracia do Treino:', accuracy_train)"
      ],
      "metadata": {
        "colab": {
          "base_uri": "https://localhost:8080/"
        },
        "id": "fmW55eU4iQo2",
        "outputId": "eee3fc54-50ab-4be3-b64f-0db44e1bfd0a"
      },
      "execution_count": 111,
      "outputs": [
        {
          "output_type": "stream",
          "name": "stdout",
          "text": [
            "Acuracia do Treino: 0.8300561797752809\n"
          ]
        }
      ]
    },
    {
      "cell_type": "code",
      "source": [
        "y_pred_test = clf.predict(X_test)\n",
        "#Printar a acuracia da classificação:\n",
        "accuracy_test = clf.score(X_test, y_test)  #mede o score (acuracy) do modelo \n",
        "print('Acuracia do Teste:', accuracy_test)"
      ],
      "metadata": {
        "colab": {
          "base_uri": "https://localhost:8080/"
        },
        "id": "flDsGQBdiX3C",
        "outputId": "909a4f11-2a3c-431f-8a85-1ca217c8fb14"
      },
      "execution_count": 112,
      "outputs": [
        {
          "output_type": "stream",
          "name": "stdout",
          "text": [
            "Acuracia do Teste: 0.7932960893854749\n"
          ]
        }
      ]
    },
    {
      "cell_type": "code",
      "source": [
        "y_pred_submit = clf.predict(df_teste)"
      ],
      "metadata": {
        "id": "bt4tE4w4o99N"
      },
      "execution_count": 113,
      "outputs": []
    },
    {
      "cell_type": "code",
      "source": [
        "# Import tools needed for visualization of trees \n",
        "from sklearn.tree import export_graphviz\n",
        "\n",
        "#para gerar a arvore do RandomForest \n",
        "import pydot\n",
        "\n",
        "#gerar arvore de decisão \n",
        "# Pull out one tree from the forest\n",
        "tree = clf.estimators_[5]   #exibe a 5ª árvore gerada pelo RF\n",
        "\n",
        "# Export the image to a dot file\n",
        "export_graphviz(tree, out_file = 'tree.dot', feature_names = X_train.columns, rounded = True, precision = 1)\n",
        "\n",
        "\n",
        "# Use dot file to create a graph\n",
        "(graph, ) = pydot.graph_from_dot_file('tree.dot')\n",
        "\n",
        "\n",
        "# Write graph to a png file\n",
        "graph.write_png('Decision_tree.png')\n"
      ],
      "metadata": {
        "id": "HnahesfJil6z"
      },
      "execution_count": 114,
      "outputs": []
    },
    {
      "cell_type": "code",
      "source": [
        "#importância das features \n",
        "importances = clf.feature_importances_\n",
        "print(importances)"
      ],
      "metadata": {
        "colab": {
          "base_uri": "https://localhost:8080/"
        },
        "id": "kqpMeP2BiqcW",
        "outputId": "40b32a4f-6451-4e9e-c868-375cb8a97c9e"
      },
      "execution_count": 115,
      "outputs": [
        {
          "output_type": "stream",
          "name": "stdout",
          "text": [
            "[0.0503224  0.19126184 0.60295771 0.12811091 0.02734715]\n"
          ]
        }
      ]
    },
    {
      "cell_type": "code",
      "source": [
        "#matriz de confusão \n",
        "\n",
        "from sklearn.metrics import confusion_matrix\n",
        "\n",
        "#matriz de confusão do treinamento \n",
        "mc_train = confusion_matrix(y_train, y_pred_train)"
      ],
      "metadata": {
        "id": "JOXRTzcZivXK"
      },
      "execution_count": 116,
      "outputs": []
    },
    {
      "cell_type": "code",
      "source": [
        "print(mc_train)"
      ],
      "metadata": {
        "colab": {
          "base_uri": "https://localhost:8080/"
        },
        "id": "Gv2MXDC7ix8-",
        "outputId": "d9d57c8a-0bf2-43ab-9de7-c0077078ac8c"
      },
      "execution_count": 117,
      "outputs": [
        {
          "output_type": "stream",
          "name": "stdout",
          "text": [
            "[[404  35]\n",
            " [ 86 187]]\n"
          ]
        }
      ]
    },
    {
      "cell_type": "code",
      "source": [
        "plt.figure(figsize=(9,9))\n",
        "sns.heatmap(mc_train, annot=True, fmt=\".3f\", linewidths=.5, square = True, cmap = 'Blues_r');\n",
        "plt.ylabel('Actual label');\n",
        "plt.xlabel('Predicted label');\n",
        "all_sample_title = 'Accuracy Score: {0}'.format(accuracy_train)\n",
        "plt.title(all_sample_title, size = 15);"
      ],
      "metadata": {
        "colab": {
          "base_uri": "https://localhost:8080/",
          "height": 520
        },
        "id": "NTm02hONi1Kb",
        "outputId": "04a5f815-6d5a-409f-9697-ff02ba6c2617"
      },
      "execution_count": 118,
      "outputs": [
        {
          "output_type": "display_data",
          "data": {
            "text/plain": [
              "<Figure size 648x648 with 2 Axes>"
            ],
            "image/png": "[encoded data removed]"
          },
          "metadata": {
            "needs_background": "light"
          }
        }
      ]
    },
    {
      "cell_type": "code",
      "source": [
        "#matriz de confusão do teste\n",
        "mc_test = confusion_matrix(y_test, y_pred_test)\n",
        "print(mc_test)"
      ],
      "metadata": {
        "colab": {
          "base_uri": "https://localhost:8080/"
        },
        "id": "Fedf-PQ_i4j3",
        "outputId": "1d8fad80-bd9a-4e9b-cffb-766e4e904e1c"
      },
      "execution_count": 119,
      "outputs": [
        {
          "output_type": "stream",
          "name": "stdout",
          "text": [
            "[[96 14]\n",
            " [23 46]]\n"
          ]
        }
      ]
    },
    {
      "cell_type": "code",
      "source": [
        "plt.figure(figsize=(9,9))\n",
        "sns.heatmap(mc_test, annot=True, fmt=\".3f\", linewidths=.5, square = True, cmap = 'Blues_r');\n",
        "plt.ylabel('Actual label');\n",
        "plt.xlabel('Predicted label');\n",
        "all_sample_title = 'Accuracy Score: {0}'.format(accuracy_test)\n",
        "plt.title(all_sample_title, size = 15);"
      ],
      "metadata": {
        "colab": {
          "base_uri": "https://localhost:8080/",
          "height": 520
        },
        "id": "Y0mm777si9XO",
        "outputId": "4f42b77d-ea21-4764-e5ba-d38a758943a1"
      },
      "execution_count": 120,
      "outputs": [
        {
          "output_type": "display_data",
          "data": {
            "text/plain": [
              "<Figure size 648x648 with 2 Axes>"
            ],
            "image/png": "[encoded data removed]"
          },
          "metadata": {
            "needs_background": "light"
          }
        }
      ]
    },
    {
      "cell_type": "code",
      "source": [
        "##precision, recall , f1-score, specificity\n",
        "\n",
        "from sklearn.metrics import precision_score, recall_score, f1_score, roc_auc_score\n",
        "\n",
        "#precision score\n",
        "print('precision----------')\n",
        "print(precision_score(y_test, y_pred_test))\n",
        "\n",
        "#recall score \n",
        "print('recall----------')\n",
        "print(recall_score(y_test, y_pred_test))\n",
        "\n",
        "#f1 score\n",
        "print('f1-score----------')\n",
        "print(f1_score(y_test, y_pred_test))\n",
        "\n",
        "#specificity score\n",
        "vn, fp, fn, vp = confusion_matrix(y_test, y_pred_test).ravel()\n",
        "specificity = vn / (vn+fp)\n",
        "\n",
        "print('specificity----------')\n",
        "print(specificity)\n",
        "\n",
        "print('specificity----------')\n",
        "recall_score(y_test, y_pred_test, pos_label=0)\n",
        "\n",
        "#roc_auc score\n",
        "print('roc_auc----------')\n",
        "print(roc_auc_score(y_test, y_pred_test))\n"
      ],
      "metadata": {
        "colab": {
          "base_uri": "https://localhost:8080/"
        },
        "id": "KTpQIlbRi-5U",
        "outputId": "c6bc94b4-b7ca-4cee-bf4e-6614cc8ab96c"
      },
      "execution_count": 121,
      "outputs": [
        {
          "output_type": "stream",
          "name": "stdout",
          "text": [
            "precision----------\n",
            "0.7666666666666667\n",
            "recall----------\n",
            "0.6666666666666666\n",
            "f1-score----------\n",
            "0.7131782945736433\n",
            "specificity----------\n",
            "0.8727272727272727\n",
            "specificity----------\n",
            "roc_auc----------\n",
            "0.7696969696969698\n"
          ]
        }
      ]
    },
    {
      "cell_type": "code",
      "source": [
        "##############ROC Curve#################################################\n",
        "# uma outra excelente ferramenta para análise de modelos de classificação é a curva ROC\n",
        "#fonte\n",
        "#Machine Learning Classifier evaluation using ROC and CAP Curves\n",
        "#https://towardsdatascience.com/machine-learning-classifier-evaluation-using-roc-and-cap-curves-7db60fe6b716\n",
        "\n",
        "from sklearn.metrics import roc_curve, roc_auc_score, auc\n",
        "\n",
        "x_set = X_train\n",
        "y_set = y_train\n",
        "y_set_pred = y_pred_train\n",
        "\n",
        "plt.plot([0,1], [0,1], 'r--')\n",
        "\n",
        "train_fpr, train_tpr, tr_thresholds = roc_curve(y_train, y_pred_train)\n",
        "test_fpr , test_tpr,  te_thresholds = roc_curve(y_test, y_pred_test)\n",
        "\n",
        "print(\"Area abaixo da curva\") \n",
        "print(roc_auc_score(y_set, y_set_pred))\n",
        "\n",
        "#plt.plot(train_fpr, train_tpr)\n",
        "\n",
        "plt.plot(train_fpr, train_tpr, label=\" AUC TRAIN =\"+str(auc(train_fpr, train_tpr)))\n",
        "plt.plot(test_fpr, test_tpr, label=\" AUC TEST =\"+str(auc(test_fpr, test_tpr)))\n",
        "plt.legend()\n",
        "\n",
        "plt.xlabel('Taxa de falsos positivos - Especificidade', fontsize = 11)\n",
        "plt.ylabel('Taxa de verdadeiros positivos - Recall', fontsize = 11)\n",
        "plt.title('Receiver Operating Characteristic (ROC)', fontsize = 11)\n",
        "plt.show()"
      ],
      "metadata": {
        "colab": {
          "base_uri": "https://localhost:8080/",
          "height": 328
        },
        "id": "6ohFasqSjD94",
        "outputId": "0c0eb941-7f5d-46f3-9af7-709b9f206807"
      },
      "execution_count": 122,
      "outputs": [
        {
          "output_type": "stream",
          "name": "stdout",
          "text": [
            "Area abaixo da curva\n",
            "0.8026275167505236\n"
          ]
        },
        {
          "output_type": "display_data",
          "data": {
            "text/plain": [
              "<Figure size 432x288 with 1 Axes>"
            ],
            "image/png": "[encoded data removed]"
          },
          "metadata": {
            "needs_background": "light"
          }
        }
      ]
    },
    {
      "cell_type": "code",
      "source": [
        "print(y_pred_train)"
      ],
      "metadata": {
        "colab": {
          "base_uri": "https://localhost:8080/"
        },
        "id": "kKgQ3N_-kkMB",
        "outputId": "769c17c3-4776-48d7-eb59-7f4f92c6b277"
      },
      "execution_count": 123,
      "outputs": [
        {
          "output_type": "stream",
          "name": "stdout",
          "text": [
            "[1 0 0 0 0 0 0 1 0 0 1 1 0 0 1 0 0 0 1 0 0 0 1 0 1 0 0 1 0 1 0 0 0 0 0 0 0\n",
            " 0 0 0 1 0 1 1 0 1 0 0 1 0 0 0 1 1 0 0 0 1 1 1 0 0 1 0 0 1 0 1 0 0 1 0 0 0\n",
            " 0 1 0 1 0 0 0 0 0 0 0 0 0 1 0 0 1 0 0 1 1 0 0 0 0 1 0 0 1 0 1 0 0 0 1 0 0\n",
            " 0 0 1 1 1 0 0 0 0 0 1 0 0 1 1 1 0 1 1 0 0 0 0 0 0 0 0 0 0 0 0 1 1 1 0 0 0\n",
            " 0 0 0 1 0 0 0 0 0 0 0 1 0 0 0 0 0 0 0 1 0 0 0 1 1 0 0 1 0 1 0 0 0 0 1 1 1\n",
            " 0 1 0 0 0 1 0 0 1 0 0 0 0 0 1 0 1 0 1 0 0 0 0 0 1 1 0 1 0 0 0 0 1 0 1 0 0\n",
            " 1 0 1 0 1 0 0 1 0 0 0 1 0 0 0 0 0 0 0 0 0 0 0 0 1 0 1 0 0 0 0 1 1 0 0 0 1\n",
            " 0 0 0 1 1 0 0 0 0 0 0 0 1 0 1 0 0 0 0 1 0 1 0 0 0 0 1 1 1 0 0 1 1 1 0 1 0\n",
            " 0 1 0 0 0 0 0 1 1 0 0 1 0 1 1 1 0 0 0 1 0 0 0 0 0 1 0 0 0 0 0 0 1 0 0 0 0\n",
            " 0 0 1 0 0 0 0 1 1 0 1 1 0 0 0 0 0 0 0 1 0 1 0 0 1 1 0 1 1 1 0 0 0 0 1 0 0\n",
            " 0 0 0 1 1 0 0 0 0 0 1 0 1 0 1 0 1 0 0 0 1 0 0 0 1 0 0 0 0 0 0 1 0 0 0 0 0\n",
            " 1 0 0 0 1 0 0 0 1 1 0 1 1 0 0 0 0 0 0 0 0 0 1 1 1 1 1 1 0 0 0 1 0 0 0 1 0\n",
            " 1 0 0 0 0 0 0 1 0 0 0 0 0 1 1 0 0 0 1 0 0 0 0 0 1 1 1 1 0 1 0 0 1 1 0 1 0\n",
            " 0 1 0 0 1 0 0 1 0 0 0 0 0 0 0 0 0 0 0 0 0 0 1 1 1 0 0 1 1 0 0 0 1 1 1 0 0\n",
            " 0 1 0 0 0 0 0 0 1 0 0 1 0 0 0 0 0 0 0 0 0 0 1 1 0 0 0 0 1 0 0 1 0 0 0 0 0\n",
            " 0 0 0 0 1 0 0 0 1 1 0 1 0 1 1 1 0 0 1 1 1 0 0 0 0 0 0 1 0 0 1 0 0 0 0 0 0\n",
            " 0 0 1 0 1 1 0 1 0 0 1 0 0 0 1 0 0 1 1 0 0 0 0 0 0 0 0 0 1 1 1 0 0 1 0 0 0\n",
            " 0 0 1 0 1 1 1 0 0 1 0 0 0 1 0 0 0 0 0 0 1 0 1 1 1 1 0 0 0 1 0 0 0 0 0 1 0\n",
            " 0 0 1 0 0 0 1 0 0 1 0 0 0 1 0 1 0 0 1 1 1 1 0 0 0 1 0 0 0 1 1 0 0 0 1 0 0\n",
            " 1 1 0 1 1 1 0 0 0]\n"
          ]
        }
      ]
    },
    {
      "cell_type": "code",
      "source": [
        "print(y_pred_test)"
      ],
      "metadata": {
        "colab": {
          "base_uri": "https://localhost:8080/"
        },
        "id": "2-p-SDcZWPSf",
        "outputId": "596cc56a-54af-4518-d75d-927e42c14262"
      },
      "execution_count": 124,
      "outputs": [
        {
          "output_type": "stream",
          "name": "stdout",
          "text": [
            "[0 0 0 1 1 0 1 1 0 1 0 1 0 1 1 1 0 0 0 0 0 1 0 0 1 1 0 1 1 1 0 1 0 0 0 0 0\n",
            " 0 0 0 0 0 0 0 1 0 0 1 0 0 0 0 1 0 0 0 0 1 0 0 0 1 1 0 1 0 1 0 1 1 1 0 0 0\n",
            " 0 1 0 0 0 0 0 0 1 0 0 1 1 0 1 0 0 0 1 1 1 0 1 0 0 0 0 0 0 0 0 0 1 0 0 1 0\n",
            " 1 0 1 0 1 1 1 0 1 0 0 0 0 0 0 0 0 0 0 1 0 0 1 0 0 0 1 0 0 0 1 0 1 1 1 0 1\n",
            " 1 0 0 0 0 0 1 0 0 0 1 1 0 0 1 0 0 0 0 0 0 0 0 1 0 0 1 0 1 0 0]\n"
          ]
        }
      ]
    },
    {
      "cell_type": "code",
      "source": [
        "resultado = pd.DataFrame()\n",
        "resultado['PassengerId'] = df_teste[\"PassengerId\"]\n",
        "resultado['Survived'] = y_pred_submit"
      ],
      "metadata": {
        "id": "YUZjmFpzjJad"
      },
      "execution_count": 125,
      "outputs": []
    },
    {
      "cell_type": "code",
      "source": [
        "print(resultado)"
      ],
      "metadata": {
        "colab": {
          "base_uri": "https://localhost:8080/"
        },
        "id": "SaPEn-a0jqDO",
        "outputId": "81e489a2-fd24-4a03-b7b0-70f8cb0d8344"
      },
      "execution_count": 126,
      "outputs": [
        {
          "output_type": "stream",
          "name": "stdout",
          "text": [
            "     PassengerId  Survived\n",
            "0            892         0\n",
            "1            893         0\n",
            "2            894         0\n",
            "3            895         0\n",
            "4            896         0\n",
            "..           ...       ...\n",
            "413         1305         0\n",
            "414         1306         1\n",
            "415         1307         0\n",
            "416         1308         0\n",
            "417         1309         0\n",
            "\n",
            "[418 rows x 2 columns]\n"
          ]
        }
      ]
    },
    {
      "cell_type": "code",
      "source": [
        "resultado1 = resultado.round(1).astype(int)"
      ],
      "metadata": {
        "id": "_k436Jh6nTAG"
      },
      "execution_count": 127,
      "outputs": []
    },
    {
      "cell_type": "code",
      "source": [
        "df_teste_csv = resultado1.to_csv('submissaoRF.csv', index = False)"
      ],
      "metadata": {
        "id": "ZufGbzxxnTFk"
      },
      "execution_count": 128,
      "outputs": []
    }
  ]
}